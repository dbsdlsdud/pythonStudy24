{
  "nbformat": 4,
  "nbformat_minor": 0,
  "metadata": {
    "colab": {
      "provenance": [],
      "authorship_tag": "ABX9TyNDg69F0yhZY6ug/+7VG2xG",
      "include_colab_link": true
    },
    "kernelspec": {
      "name": "python3",
      "display_name": "Python 3"
    },
    "language_info": {
      "name": "python"
    }
  },
  "cells": [
    {
      "cell_type": "markdown",
      "metadata": {
        "id": "view-in-github",
        "colab_type": "text"
      },
      "source": [
        "<a href=\"https://colab.research.google.com/github/dbsdlsdud/pythonStudy24/blob/master/fileExam.ipynb\" target=\"_parent\"><img src=\"https://colab.research.google.com/assets/colab-badge.svg\" alt=\"Open In Colab\"/></a>"
      ]
    },
    {
      "cell_type": "markdown",
      "source": [
        "파일 읽고 쓰기 연습\n",
        "\n",
        "파이썬은 실무에서 엑셀파일을 .csv파일로 저장하여 불러와 데이터 분석등을 한다.\n",
        "\n",
        ".csv는 엑셀에서 표에있는 값을 텍스트로 저장하는 다른 이름으로 저장 기법을 말함\n",
        "\n",
        "현재 코랩으로 실습을 진행하면 구글에서 제공하는 vm을 사용함\n",
        "\n",
        "리눅스 커널로 되어 있어 content 디렉토리에 저장됨\n",
        "\n",
        "c:\\으로 되어있는 것은 윈도우 커널로 파이참에서 실습을 함"
      ],
      "metadata": {
        "id": "D7HpLpuoTZEx"
      }
    },
    {
      "cell_type": "code",
      "execution_count": 2,
      "metadata": {
        "id": "adzMduGXTUBG"
      },
      "outputs": [],
      "source": [
        "#파일 생성하기 실습\n",
        "f = open(\"새파일.txt\",'w')  #open() 파일을 연다\n",
        "for i in range(1,11):       #1~10까지 숫자범위를 만들어서 i에 넣음\n",
        "    data = '%d번째 줄입니다. \\n' % i\n",
        "    f.write(data)           #write : 파일에 기록할때 씀, data값을 파일에 기록\n",
        "\n",
        "f.close()                   #연 파일을 닫는다\n",
        "#'w' : 쓰기 가능모드 (파일에 권한 부여)\n",
        "#'r' : 읽기만 가능모드\n",
        "#'a' : 추가모드 (파일 마지막에 새로운 내용추가)"
      ]
    },
    {
      "cell_type": "code",
      "source": [
        "#저장된 파일내용 가져와 출력하기\n",
        "f = open(\"새파일.txt\",'r')\n",
        "line = f.readline() #첫줄에 내용을 가져와 line변수에 넣음\n",
        "print(line)\n",
        "f.close()"
      ],
      "metadata": {
        "colab": {
          "base_uri": "https://localhost:8080/"
        },
        "id": "rBWAZOe3YLF5",
        "outputId": "6bde00e1-a993-4a1c-c282-bb800080ccd2"
      },
      "execution_count": 3,
      "outputs": [
        {
          "output_type": "stream",
          "name": "stdout",
          "text": [
            "1번째 줄입니다. \n",
            "\n"
          ]
        }
      ]
    },
    {
      "cell_type": "code",
      "source": [
        "#무한루프 while로 가져오기\n",
        "f = open(\"새파일.txt\",'r')\n",
        "while True:                 #무한루프 동작\n",
        "    line = f.readline()     #한줄씩 읽어\n",
        "    if not line: break      #마지막 줄인지 확인하고 중단\n",
        "    print(line)             #출력\n",
        "f.close()                   #파일닫기"
      ],
      "metadata": {
        "colab": {
          "base_uri": "https://localhost:8080/"
        },
        "id": "UOZgwOsAYcNg",
        "outputId": "60df90b5-45f6-46f6-c1cf-ddb8b2f9f711"
      },
      "execution_count": 4,
      "outputs": [
        {
          "output_type": "stream",
          "name": "stdout",
          "text": [
            "1번째 줄입니다. \n",
            "\n",
            "2번째 줄입니다. \n",
            "\n",
            "3번째 줄입니다. \n",
            "\n",
            "4번째 줄입니다. \n",
            "\n",
            "5번째 줄입니다. \n",
            "\n",
            "6번째 줄입니다. \n",
            "\n",
            "7번째 줄입니다. \n",
            "\n",
            "8번째 줄입니다. \n",
            "\n",
            "9번째 줄입니다. \n",
            "\n",
            "10번째 줄입니다. \n",
            "\n"
          ]
        }
      ]
    },
    {
      "cell_type": "code",
      "source": [
        "#.readlines()\n",
        "f = open(\"새파일.txt\",'r')\n",
        "lines = f.readlines()       #새파일텍스트 문자열을 리스트로 만듦\n",
        "for line in lines:\n",
        "    print(line.strip())     #리스트 내용 출력\n",
        "                            #.strip() 메서드는 줄끝의 줄 바꿈 문자를 제거함\n",
        "f.close()"
      ],
      "metadata": {
        "colab": {
          "base_uri": "https://localhost:8080/"
        },
        "id": "AwIQJ2ibY6EQ",
        "outputId": "9e29a50b-07ed-4c07-c0a2-527199ba5cb9"
      },
      "execution_count": 8,
      "outputs": [
        {
          "output_type": "stream",
          "name": "stdout",
          "text": [
            "1번째 줄입니다.\n",
            "2번째 줄입니다.\n",
            "3번째 줄입니다.\n",
            "4번째 줄입니다.\n",
            "5번째 줄입니다.\n",
            "6번째 줄입니다.\n",
            "7번째 줄입니다.\n",
            "8번째 줄입니다.\n",
            "9번째 줄입니다.\n",
            "10번째 줄입니다.\n"
          ]
        }
      ]
    },
    {
      "cell_type": "code",
      "source": [
        "#read() 함수 사용\n",
        "f = open(\"새파일.txt\",'r')\n",
        "data = f.read()             #.read() : 파일 내용 전체를 문자열로 리턴\n",
        "print(data)\n",
        "f.close()"
      ],
      "metadata": {
        "colab": {
          "base_uri": "https://localhost:8080/"
        },
        "id": "CjKrRcteaFhh",
        "outputId": "f6e24fff-24f3-460b-e230-73ee1ab208f1"
      },
      "execution_count": 9,
      "outputs": [
        {
          "output_type": "stream",
          "name": "stdout",
          "text": [
            "1번째 줄입니다. \n",
            "2번째 줄입니다. \n",
            "3번째 줄입니다. \n",
            "4번째 줄입니다. \n",
            "5번째 줄입니다. \n",
            "6번째 줄입니다. \n",
            "7번째 줄입니다. \n",
            "8번째 줄입니다. \n",
            "9번째 줄입니다. \n",
            "10번째 줄입니다. \n",
            "\n"
          ]
        }
      ]
    },
    {
      "cell_type": "code",
      "source": [
        "#파일에 새로운 내용 추가\n",
        "\n",
        "#'w'의 특징 : 파일을 열때 이미 존재하는 파일이면 전에 내용이 사라진다"
      ],
      "metadata": {
        "id": "a12m2szLbKeJ"
      },
      "execution_count": null,
      "outputs": []
    },
    {
      "cell_type": "code",
      "source": [
        "f = open(\"새파일.txt\",'w')  #open() 파일을 연다\n",
        "for i in range(1,11):       #1~10까지 숫자범위를 만들어서 i에 넣음\n",
        "    data = '%d번째 행입니다. \\n' % i\n",
        "    f.write(data)           #write : 파일에 기록할때 씀, data값을 파일에 기록\n",
        "\n",
        "f.close()"
      ],
      "metadata": {
        "id": "895fM2KwbwkR"
      },
      "execution_count": 10,
      "outputs": []
    },
    {
      "cell_type": "code",
      "source": [
        "#\"w\"를 'a'로 변경하던지 파일명을 다른이름으로 저장해야 한다.\n",
        "f = open(\"새파일.txt\",'a') # a 추가용\n",
        "for i in range(11,21):  #11~20번\n",
        "    data = '%d번째 줄입니다. \\n' % i\n",
        "    f.write(data)\n",
        "f.close()"
      ],
      "metadata": {
        "id": "YgK0uCKqcRKJ"
      },
      "execution_count": 11,
      "outputs": []
    },
    {
      "cell_type": "code",
      "source": [
        "#with() 함수 사용해보기\n",
        "#파일을 열면(open) 항상 (close)닫기 해야 함\n",
        "f = open(\"foo.txt\",'w')\n",
        "f.write(\"Life is too short, you need python\")\n",
        "f.close()"
      ],
      "metadata": {
        "id": "9AKchH93dGoh"
      },
      "execution_count": 12,
      "outputs": []
    },
    {
      "cell_type": "code",
      "source": [
        "with open(\"foo.txt\",'w') as f:\n",
        "    f.write(\"Life is too short, you need python\")\n",
        "    # f.close 자동으로 닫아줌 (생략가능)"
      ],
      "metadata": {
        "id": "d8Qce3-fdo3x"
      },
      "execution_count": 13,
      "outputs": []
    }
  ]
}