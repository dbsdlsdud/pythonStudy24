{
  "nbformat": 4,
  "nbformat_minor": 0,
  "metadata": {
    "colab": {
      "provenance": [],
      "authorship_tag": "ABX9TyOgcJJk0jLhcwgmRRvcs5oU",
      "include_colab_link": true
    },
    "kernelspec": {
      "name": "python3",
      "display_name": "Python 3"
    },
    "language_info": {
      "name": "python"
    }
  },
  "cells": [
    {
      "cell_type": "markdown",
      "metadata": {
        "id": "view-in-github",
        "colab_type": "text"
      },
      "source": [
        "<a href=\"https://colab.research.google.com/github/dbsdlsdud/pythonStudy24/blob/master/pythonModule.ipynb\" target=\"_parent\"><img src=\"https://colab.research.google.com/assets/colab-badge.svg\" alt=\"Open In Colab\"/></a>"
      ]
    },
    {
      "cell_type": "code",
      "execution_count": null,
      "metadata": {
        "id": "3M_EV575oecq"
      },
      "outputs": [],
      "source": [
        "#1.모듈 만들기\n",
        "\n",
        "# mod1.py\n",
        "def add(a, b):\n",
        "    return a + b\n",
        "\n",
        "def sub(a, b):\n",
        "    return a-b\n"
      ]
    },
    {
      "cell_type": "code",
      "source": [
        "#2.모듈 불러오기\n",
        "\n",
        "# C:\\Users\\pahkey>cd C:\\doit\n",
        "# C:\\doit>dir\n",
        "# ...\n",
        "# 2014-09-23 오후 01:53 49 mod1.py\n",
        "# ...\n",
        "# C:\\doit>python"
      ],
      "metadata": {
        "id": "qLVgwJNTo274"
      },
      "execution_count": null,
      "outputs": []
    },
    {
      "cell_type": "code",
      "source": [
        "#3.import 사용방법 -> import 모듈_이름\n",
        "#import는 현재 디렉터리에 있는 파일이나\n",
        "#파이썬 라이브러리가 저장된 디렉터리에 있는 모듈만 불러올 수 있다."
      ],
      "metadata": {
        "id": "LmkVNMytpMRf"
      },
      "execution_count": null,
      "outputs": []
    },
    {
      "cell_type": "code",
      "source": [
        "# 4.if __name__ == \"__main__\":의 의미\n",
        "\n",
        "# if __name__ == \"__main__\":\n",
        "#     print(add(1, 4))\n",
        "#     print(sub(4, 2))\n",
        "\n",
        "# 대화형 인터프리터나 다른 파일에서 불러 사용할때 거짓이 되어 if문 다음 문장이 수행되지 않는다\n",
        "\n",
        "#__name__ : 파이썬이 내부적으로 사용하는 특별한 변수 이름이다.\n",
        "#파일을 실행할 경우, mod1.py의 __name__ 변수에는 __main__ 값이 저장된다."
      ],
      "metadata": {
        "id": "WXZebazxqq7A"
      },
      "execution_count": null,
      "outputs": []
    },
    {
      "cell_type": "code",
      "source": [
        "#5.클래스나 변수 등을 포함한 모듈\n",
        "\n",
        "# PI = 3.141592\n",
        "\n",
        "# class Math:\n",
        "#     def solv(self, r):\n",
        "#         return PI * (r ** 2)\n",
        "\n",
        "# def add(a, b):\n",
        "#     return a+b\n",
        "\n"
      ],
      "metadata": {
        "id": "TN2o5-42qvCo"
      },
      "execution_count": null,
      "outputs": []
    },
    {
      "cell_type": "code",
      "source": [
        "#6.https://wikidocs.net/1418"
      ],
      "metadata": {
        "id": "JQmqJ_e5rMdH"
      },
      "execution_count": null,
      "outputs": []
    },
    {
      "cell_type": "code",
      "source": [],
      "metadata": {
        "id": "c47V3fBwrLVo"
      },
      "execution_count": null,
      "outputs": []
    }
  ]
}