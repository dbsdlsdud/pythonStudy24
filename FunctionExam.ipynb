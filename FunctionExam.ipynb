{
  "nbformat": 4,
  "nbformat_minor": 0,
  "metadata": {
    "colab": {
      "provenance": [],
      "authorship_tag": "ABX9TyPNJl/KS+Z1POJXZBx6S1Jq",
      "include_colab_link": true
    },
    "kernelspec": {
      "name": "python3",
      "display_name": "Python 3"
    },
    "language_info": {
      "name": "python"
    }
  },
  "cells": [
    {
      "cell_type": "markdown",
      "metadata": {
        "id": "view-in-github",
        "colab_type": "text"
      },
      "source": [
        "<a href=\"https://colab.research.google.com/github/dbsdlsdud/pythonStudy24/blob/master/FunctionExam.ipynb\" target=\"_parent\"><img src=\"https://colab.research.google.com/assets/colab-badge.svg\" alt=\"Open In Colab\"/></a>"
      ]
    },
    {
      "cell_type": "markdown",
      "source": [
        "함수(function)\n",
        "\n",
        "함수는 단일 동작을 수행하는 블럭을 말한다.\n",
        "\n",
        "자바에서는{} 블럭 단위로 수행하는데 파이썬은 인터프리터로 줄단위 수행\n",
        "\n",
        "프로그램의 메모리 영역은 크게 3가지로 나누어짐\n",
        "\n",
        "* 스택영역 : 변수에 기본타입이나 참조타입을 연결\n",
        "* 힙영역 : 객체를 생성해서 주소를 가지고 있음\n",
        "* 메서드영역 : 동작들을 보관하고 있다가 호출되면 매개값(파라미터) 처리후 리턴을 제공(함수나 메서드를 보관)\n",
        "\n",
        "함수를 사용하는 이유 : 반복적인 코드 발생을 최소화하기 위해서(CRUD)"
      ],
      "metadata": {
        "id": "gpkAfTdX8Rbl"
      }
    },
    {
      "cell_type": "code",
      "execution_count": 5,
      "metadata": {
        "colab": {
          "base_uri": "https://localhost:8080/"
        },
        "id": "DdCR_ZJP8EvJ",
        "outputId": "1d80b099-496a-494b-8844-8a120362e421"
      },
      "outputs": [
        {
          "output_type": "stream",
          "name": "stdout",
          "text": [
            "add()메서드 종료\n",
            "김기원\n"
          ]
        }
      ],
      "source": [
        "#파이썬 함수의 구조\n",
        "\n",
        "#def (define : 정의) 함수 생성\n",
        "#def 함수이름(매개변수) :\n",
        "#    실행운1\n",
        "#    실행문2\n",
        "#    ....\n",
        "\n",
        "def add(a, b):      #add라는 함수를 정의(생성),매개값은 2개를 받음\n",
        "    print('add()메서드 종료')\n",
        "    return a + b    #매개값으로 받은 2개의 변수를 더하고 리턴\n",
        "    #add() 종료\n",
        "\n",
        "print(add(\"김\",\"기원\"))"
      ]
    },
    {
      "cell_type": "code",
      "source": [
        "# *args : 매개값이 몇개인지 모를때 (1 이상)\n",
        "def add_many(*args):    #*args 매개값이 1개 이상\n",
        "    result = 0          #결과를 저장하는 변수\n",
        "    for i in args :     #*args는 리스트로 저장이 됨\n",
        "        result += i     #result = result + i\n",
        "    return result       #결과 리턴\n",
        "\n",
        "print(add_many(1,2,3,4,5,6,7,8,9))\n",
        "#args는 관례임(프로그래머들끼리의 약속)"
      ],
      "metadata": {
        "colab": {
          "base_uri": "https://localhost:8080/"
        },
        "id": "uyK2q1WMEgoe",
        "outputId": "f7bba716-2096-44d8-d9fd-a75831062c99"
      },
      "execution_count": 6,
      "outputs": [
        {
          "output_type": "stream",
          "name": "stdout",
          "text": [
            "45\n"
          ]
        }
      ]
    },
    {
      "cell_type": "code",
      "source": [
        "test = add_many(9,8,7,6)\n",
        "print(test)"
      ],
      "metadata": {
        "colab": {
          "base_uri": "https://localhost:8080/"
        },
        "id": "Uyl0lzyOLJ-H",
        "outputId": "d41e5e66-c7fb-43e5-a9c6-5a71d63af18e"
      },
      "execution_count": 8,
      "outputs": [
        {
          "output_type": "stream",
          "name": "stdout",
          "text": [
            "30\n"
          ]
        }
      ]
    },
    {
      "cell_type": "code",
      "source": [
        "def add_mul(choice, *args):\n",
        "    if choice == \"add\":\n",
        "        result = 0\n",
        "        for i in args:\n",
        "            result += i\n",
        "    elif choice == \"mul\":\n",
        "        result = 1\n",
        "        for i in args:\n",
        "            result *= i\n",
        "    return result"
      ],
      "metadata": {
        "colab": {
          "base_uri": "https://localhost:8080/"
        },
        "id": "3xmtVEJkL-MG",
        "outputId": "7e8a31a7-2834-460a-83d4-f62dcf3f9fcc"
      },
      "execution_count": 12,
      "outputs": [
        {
          "output_type": "stream",
          "name": "stdout",
          "text": [
            "15\n"
          ]
        }
      ]
    },
    {
      "cell_type": "code",
      "source": [
        "result = add_mul(\"add\",1,2,3,4,5)\n",
        "print(result)"
      ],
      "metadata": {
        "colab": {
          "base_uri": "https://localhost:8080/"
        },
        "id": "2zIVtHx7MaiH",
        "outputId": "e393a7b0-ce1a-4409-945a-ac076c9614ed"
      },
      "execution_count": 16,
      "outputs": [
        {
          "output_type": "stream",
          "name": "stdout",
          "text": [
            "15\n"
          ]
        }
      ]
    },
    {
      "cell_type": "code",
      "source": [
        "result = add_mul(\"mul\",1,2,3,4,5)\n",
        "print(result)"
      ],
      "metadata": {
        "colab": {
          "base_uri": "https://localhost:8080/"
        },
        "id": "uht_gAXENByv",
        "outputId": "6b023773-fffd-40c3-8929-19804c33dd94"
      },
      "execution_count": 17,
      "outputs": [
        {
          "output_type": "stream",
          "name": "stdout",
          "text": [
            "120\n"
          ]
        }
      ]
    },
    {
      "cell_type": "code",
      "source": [
        "result = add_mul(\"add\",\"김\",\"기\",'원')"
      ],
      "metadata": {
        "colab": {
          "base_uri": "https://localhost:8080/",
          "height": 276
        },
        "id": "0Y_WZ35QOZc_",
        "outputId": "72ddc507-d9c6-427c-b7e5-b34566ca5edc"
      },
      "execution_count": 18,
      "outputs": [
        {
          "output_type": "error",
          "ename": "TypeError",
          "evalue": "unsupported operand type(s) for +=: 'int' and 'str'",
          "traceback": [
            "\u001b[0;31m---------------------------------------------------------------------------\u001b[0m",
            "\u001b[0;31mTypeError\u001b[0m                                 Traceback (most recent call last)",
            "\u001b[0;32m<ipython-input-18-b5df7c7607c4>\u001b[0m in \u001b[0;36m<cell line: 1>\u001b[0;34m()\u001b[0m\n\u001b[0;32m----> 1\u001b[0;31m \u001b[0mresult\u001b[0m \u001b[0;34m=\u001b[0m \u001b[0madd_mul\u001b[0m\u001b[0;34m(\u001b[0m\u001b[0;34m\"add\"\u001b[0m\u001b[0;34m,\u001b[0m\u001b[0;34m\"김\"\u001b[0m\u001b[0;34m,\u001b[0m\u001b[0;34m\"기\"\u001b[0m\u001b[0;34m,\u001b[0m\u001b[0;34m'원'\u001b[0m\u001b[0;34m)\u001b[0m\u001b[0;34m\u001b[0m\u001b[0;34m\u001b[0m\u001b[0m\n\u001b[0m",
            "\u001b[0;32m<ipython-input-12-b1ea7e7e80c5>\u001b[0m in \u001b[0;36madd_mul\u001b[0;34m(choice, *args)\u001b[0m\n\u001b[1;32m      3\u001b[0m         \u001b[0mresult\u001b[0m \u001b[0;34m=\u001b[0m \u001b[0;36m0\u001b[0m\u001b[0;34m\u001b[0m\u001b[0;34m\u001b[0m\u001b[0m\n\u001b[1;32m      4\u001b[0m         \u001b[0;32mfor\u001b[0m \u001b[0mi\u001b[0m \u001b[0;32min\u001b[0m \u001b[0margs\u001b[0m\u001b[0;34m:\u001b[0m\u001b[0;34m\u001b[0m\u001b[0;34m\u001b[0m\u001b[0m\n\u001b[0;32m----> 5\u001b[0;31m             \u001b[0mresult\u001b[0m \u001b[0;34m+=\u001b[0m \u001b[0mi\u001b[0m\u001b[0;34m\u001b[0m\u001b[0;34m\u001b[0m\u001b[0m\n\u001b[0m\u001b[1;32m      6\u001b[0m     \u001b[0;32melif\u001b[0m \u001b[0mchoice\u001b[0m \u001b[0;34m==\u001b[0m \u001b[0;34m\"mul\"\u001b[0m\u001b[0;34m:\u001b[0m\u001b[0;34m\u001b[0m\u001b[0;34m\u001b[0m\u001b[0m\n\u001b[1;32m      7\u001b[0m         \u001b[0mresult\u001b[0m \u001b[0;34m=\u001b[0m \u001b[0;36m1\u001b[0m\u001b[0;34m\u001b[0m\u001b[0;34m\u001b[0m\u001b[0m\n",
            "\u001b[0;31mTypeError\u001b[0m: unsupported operand type(s) for +=: 'int' and 'str'"
          ]
        }
      ]
    },
    {
      "cell_type": "code",
      "source": [
        "# **kwargs : 키워드 매개변수(딕셔너리)\n",
        "def print_kwargs(**kwargs):\n",
        "    print(kwargs)\n",
        "\n",
        "print_kwargs(args=312)"
      ],
      "metadata": {
        "colab": {
          "base_uri": "https://localhost:8080/"
        },
        "id": "nMJv7gxuOwHP",
        "outputId": "5d77c0eb-dbf5-4c42-99d9-1fa66c620bfe"
      },
      "execution_count": 20,
      "outputs": [
        {
          "output_type": "stream",
          "name": "stdout",
          "text": [
            "{'args': 312}\n"
          ]
        }
      ]
    },
    {
      "cell_type": "code",
      "source": [
        "print_kwargs(id='args',pw='P@sswOrd',phone=8988,email='b1ky0164@naver.com')"
      ],
      "metadata": {
        "colab": {
          "base_uri": "https://localhost:8080/"
        },
        "id": "PXKQSRaZPa6f",
        "outputId": "0cb60642-77ed-4218-b5ac-4de41baeb378"
      },
      "execution_count": 24,
      "outputs": [
        {
          "output_type": "stream",
          "name": "stdout",
          "text": [
            "{'id': 'args', 'pw': 'P@sswOrd', 'phone': 8988, 'email': 'p1koko99@naver.com'}\n"
          ]
        }
      ]
    },
    {
      "cell_type": "code",
      "source": [
        "#만약 리턴 값이 2개\n",
        "\n",
        "def add_and_mul(a,b):\n",
        "    return a+b, a*b, a-b\n",
        "\n",
        "a,b,c = add_and_mul(3,4)\n",
        "print(a)\n",
        "print(b)\n",
        "print(c)"
      ],
      "metadata": {
        "colab": {
          "base_uri": "https://localhost:8080/"
        },
        "id": "W2yQf4r8QCym",
        "outputId": "ab4cd14d-7751-4b2d-9d23-8fd8f163ee69"
      },
      "execution_count": 26,
      "outputs": [
        {
          "output_type": "stream",
          "name": "stdout",
          "text": [
            "7\n",
            "12\n",
            "-1\n"
          ]
        }
      ]
    },
    {
      "cell_type": "code",
      "source": [
        "def say_myself(name, old, man=True):\n",
        "    print(\"나의 이름은 %s 입니다.\" % name)\n",
        "    print(\"나의 나이는 %d 입니다.\" % old)\n",
        "    if man:\n",
        "        print(\"남자입니다.\")\n",
        "    else:\n",
        "        print(\"여자입니다.\")\n",
        "\n",
        "say_myself(\"박응용\", 27)"
      ],
      "metadata": {
        "colab": {
          "base_uri": "https://localhost:8080/"
        },
        "id": "r77ryjteRMZf",
        "outputId": "8c04aaa0-033b-448d-f3bd-156e57b8d66f"
      },
      "execution_count": 28,
      "outputs": [
        {
          "output_type": "stream",
          "name": "stdout",
          "text": [
            "나의 이름은 박응용 입니다.\n",
            "나의 나이는 27 입니다.\n",
            "남자입니다.\n"
          ]
        }
      ]
    },
    {
      "cell_type": "code",
      "source": [
        "say_myself(\"윤인영\",26,False)"
      ],
      "metadata": {
        "colab": {
          "base_uri": "https://localhost:8080/"
        },
        "id": "zX34CZ6mR8fn",
        "outputId": "7fbd72fe-cb3e-4dd5-dc11-dd04b0613169"
      },
      "execution_count": 29,
      "outputs": [
        {
          "output_type": "stream",
          "name": "stdout",
          "text": [
            "나의 이름은 윤인영 입니다.\n",
            "나의 나이는 26 입니다.\n",
            "여자입니다.\n"
          ]
        }
      ]
    },
    {
      "cell_type": "code",
      "source": [
        "#람다식 : 인터페이스형태의 실행문이 1개인 코드\n",
        "#자바에서 람다식은 -> 사용하고 자바스크립트 =>\n",
        "#파이썬의 람다식은\n",
        "#변수(함수명) = lambda 매개변수 : 실행문\n",
        "add = lambda a, b : a + b\n",
        "result = add(3,4)\n",
        "print(result)"
      ],
      "metadata": {
        "colab": {
          "base_uri": "https://localhost:8080/"
        },
        "id": "KSaOQbXuSSHP",
        "outputId": "a4c452cf-2eaa-48e0-c97c-9b7e5740d077"
      },
      "execution_count": 31,
      "outputs": [
        {
          "output_type": "stream",
          "name": "stdout",
          "text": [
            "7\n"
          ]
        }
      ]
    },
    {
      "cell_type": "code",
      "source": [
        "#미션\n",
        "#자판기 코드를 함수로 리빌드 진행 시작\n",
        "\n",
        "#판매할 커피종류 만들기\n",
        "#def 해야 될거\n",
        "#계산 /,\n",
        "\n",
        "coffee_menu = {\n",
        "    1: {\"name\": \"아메리카노\", \"price\": 2000},\n",
        "    2: {\"name\": \"라떼\", \"price\": 2500},\n",
        "    3: {\"name\": \"카푸치노\", \"price\": 3000},\n",
        "    4: {\"name\": \"모카\", \"price\": 3500}\n",
        "}\n",
        "\n",
        "def coffee_잔돈계산(받은돈, 커피가격):\n",
        "    return 받은돈 - 커피가격\n",
        "\n"
      ],
      "metadata": {
        "colab": {
          "base_uri": "https://localhost:8080/"
        },
        "id": "WdbtSZ4iT0OX",
        "outputId": "f6e632c2-ba88-4e76-ae23-c71886e3d2d4"
      },
      "execution_count": 38,
      "outputs": [
        {
          "output_type": "stream",
          "name": "stdout",
          "text": [
            "커피 2000 3\n",
            "2000\n",
            "6000\n"
          ]
        }
      ]
    },
    {
      "cell_type": "code",
      "source": [
        "#커피메뉴만들기\n",
        "def coffees_menu():\n",
        "    return{\n",
        "    1: {\"name\": \"아메리카노\", \"price\": 2000},\n",
        "    2: {\"name\": \"라떼\", \"price\": 2500},\n",
        "    3: {\"name\": \"카푸치노\", \"price\": 3000},\n",
        "    4: {\"name\": \"모카\", \"price\": 3500}\n",
        "}\n",
        "\n",
        "#커피메뉴만들고 ->  커피 선택하고 -> 돈넣고 -> 계산 -> 커피주기\n",
        "                    #커피 선택하면 커피이름, 가격나오게하기ㅣ\n",
        "\n",
        "def coffee_잔돈계산(받은돈, 커피가격):\n",
        "    return 받은돈 - 커피가격\n",
        "\n",
        "def coffee_선택(커피번호):\n",
        "    for coffee in coffees_menu():\n",
        "        print(coffee,coffees_menu()[coffee]['name'],coffees_menu()[coffee]['price'],\"원\")\n",
        "    커피번호 = int(input(\"커피를 선택하세요 : \"))\n",
        "    커피이름 = coffees_menu()[커피번호]['name']\n",
        "    for coffee in coffees_menu():\n",
        "        if 커피번호 == coffee:\n",
        "            커피가격 = coffees_menu()[coffee]['price']\n",
        "            print(커피이름,커피가격,\"원\")\n",
        "            커피금액 = int(input(\"돈을 넣어주세요 : \"))\n",
        "            if 커피금액 > 커피가격:\n",
        "                print(\"커피 나왔습니다\")\n",
        "                print(\"잔돈은 \",coffee_잔돈계산(커피금액, 커피가격),\"원 입니다.\")\n",
        "            elif 커피금액 == 커피가격:\n",
        "                print(\"커피 나왔습니다\")\n",
        "            elif 커피금액 < 커피가격:\n",
        "                print(\"돈이 부족합니다\")\n",
        "    return\n",
        "\n",
        "\n",
        "\n",
        "print(coffee_선택(1))"
      ],
      "metadata": {
        "colab": {
          "base_uri": "https://localhost:8080/"
        },
        "id": "mppQZM60c8sR",
        "outputId": "43d92033-8a69-4c7c-ae60-5d85f1a1a9a3"
      },
      "execution_count": 97,
      "outputs": [
        {
          "output_type": "stream",
          "name": "stdout",
          "text": [
            "1 아메리카노 2000 원\n",
            "2 라떼 2500 원\n",
            "3 카푸치노 3000 원\n",
            "4 모카 3500 원\n",
            "커피를 선택하세요 : 4\n",
            "모카 3500 원\n",
            "돈을 넣어주세요 : 4658\n",
            "커피 나왔습니다\n",
            "잔돈은  1158 원 입니다.\n",
            "('모카', 3500, 4658)\n"
          ]
        }
      ]
    },
    {
      "cell_type": "code",
      "source": [
        "#커피메뉴만들기\n",
        "def coffees_menu():\n",
        "    return{\n",
        "    1: {\"name\": \"아메리카노\", \"price\": 2000},\n",
        "    2: {\"name\": \"라떼\", \"price\": 2500},\n",
        "    3: {\"name\": \"카푸치노\", \"price\": 3000},\n",
        "    4: {\"name\": \"모카\", \"price\": 3500}\n",
        "}\n",
        "\n",
        "def coffee_선택(커피번호):\n",
        "    for coffee in coffees_menu():\n",
        "        print(coffee,coffees_menu()[coffee]['name'],coffees_menu()[coffee]['price'],\"원\")\n",
        "    커피번호 = int(input(\"커피를 선택하세요 : \"))\n",
        "    return 커피번호\n",
        "\n",
        "def coffee_잔돈계산(받은돈, 커피가격):\n",
        "    return 받은돈 - 커피가격\n",
        "\n",
        "def coffee_주문(커피번호):\n",
        "    커피번호 = coffee_선택(커피번호)\n",
        "    커피이름 = coffees_menu()[커피번호]['name']\n",
        "    커피가격 = coffees_menu()[커피번호]['price']\n",
        "    for coffee in coffees_menu():\n",
        "        if 커피번호 == coffee:\n",
        "            커피가격 = coffees_menu()[coffee]['price']\n",
        "            print(커피이름,커피가격,\"원\")\n",
        "            커피금액 = int(input(\"돈을 넣어주세요 : \"))\n",
        "            if 커피금액 > 커피가격:\n",
        "                print(\"커피 나왔습니다\")\n",
        "                print(\"잔돈은 \",coffee_잔돈계산(커피금액, 커피가격),\"원 입니다.\")\n",
        "                판매금액 = 커피가격\n",
        "            elif 커피금액 == 커피가격:\n",
        "                print(\"커피 나왔습니다\")\n",
        "                판매금액 = 커피가격\n",
        "            elif 커피금액 < 커피가격:\n",
        "                print(\"돈이 부족합니다\")\n",
        "    return\n",
        "\n",
        "\n",
        "\n",
        "\n",
        "\n",
        "print(coffee_주문(1))"
      ],
      "metadata": {
        "colab": {
          "base_uri": "https://localhost:8080/"
        },
        "id": "w2YgbM18owND",
        "outputId": "5b981f8e-e79f-4207-e8fc-35c7a1eb1f96"
      },
      "execution_count": 99,
      "outputs": [
        {
          "output_type": "stream",
          "name": "stdout",
          "text": [
            "1 아메리카노 2000 원\n",
            "2 라떼 2500 원\n",
            "3 카푸치노 3000 원\n",
            "4 모카 3500 원\n",
            "커피를 선택하세요 : 1\n",
            "아메리카노 2000 원\n",
            "돈을 넣어주세요 : 5486\n",
            "커피 나왔습니다\n",
            "잔돈은  3486 원 입니다.\n",
            "None\n"
          ]
        }
      ]
    },
    {
      "cell_type": "code",
      "source": [
        "# newfile.py\n",
        "f = open(\"새파일.txt\", 'w')\n",
        "f.close()"
      ],
      "metadata": {
        "id": "Hl-wUxZjtDPd"
      },
      "execution_count": 105,
      "outputs": []
    },
    {
      "cell_type": "code",
      "source": [
        "# newfile2.py\n",
        "import os\n",
        "\n",
        "# Create the directory if it doesn't exist\n",
        "directory = \"C:/doit\"  # Replace with your desired directory path\n",
        "if not os.path.exists(directory):\n",
        "    os.makedirs(directory)\n",
        "\n",
        "# Now, open the file for writing\n",
        "f = open(os.path.join(directory, \"새파일.txt\"), 'w')\n",
        "f.close()"
      ],
      "metadata": {
        "id": "-czzVfcEuMCb"
      },
      "execution_count": 107,
      "outputs": []
    },
    {
      "cell_type": "code",
      "source": [
        "f = open(\"C:/doit/새파일.txt\", 'w')\n",
        "for i in range(1, 11):\n",
        "    data = \"%d번째 줄입니다.\\n\" % i\n",
        "    f.write(data)\n",
        "f"
      ],
      "metadata": {
        "colab": {
          "base_uri": "https://localhost:8080/"
        },
        "id": "HL4aSzc3vRH7",
        "outputId": "906c5dc2-9fb9-48ba-bf1b-d1d584291df6"
      },
      "execution_count": 109,
      "outputs": [
        {
          "output_type": "execute_result",
          "data": {
            "text/plain": [
              "<_io.TextIOWrapper name='C:/doit/새파일.txt' mode='w' encoding='UTF-8'>"
            ]
          },
          "metadata": {},
          "execution_count": 109
        }
      ]
    }
  ]
}