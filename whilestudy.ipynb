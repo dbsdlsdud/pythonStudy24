{
  "nbformat": 4,
  "nbformat_minor": 0,
  "metadata": {
    "colab": {
      "provenance": [],
      "authorship_tag": "ABX9TyPx7ToVqYVWl3f4VOZsr4tw",
      "include_colab_link": true
    },
    "kernelspec": {
      "name": "python3",
      "display_name": "Python 3"
    },
    "language_info": {
      "name": "python"
    }
  },
  "cells": [
    {
      "cell_type": "markdown",
      "metadata": {
        "id": "view-in-github",
        "colab_type": "text"
      },
      "source": [
        "<a href=\"https://colab.research.google.com/github/dbsdlsdud/pythonStudy24/blob/master/whilestudy.ipynb\" target=\"_parent\"><img src=\"https://colab.research.google.com/assets/colab-badge.svg\" alt=\"Open In Colab\"/></a>"
      ]
    },
    {
      "cell_type": "markdown",
      "source": [
        "while문\n",
        "\n",
        "while문은 문장을 반복해서 수행해야 되는 경우 활용(반복문)\n",
        "\n",
        "반복문은 여러 데이터를 처리해야 하는 경우 사용\n",
        "\n",
        "if문에서 성적처리를 할때 한명에 데이터를 처리하ㅣㅈ만 입력을 여러명 받아 더 큰 프로그램을 만들 수 있다.\n",
        "\n",
        "반복문은 while문과 for문으로 활용되는데 while문은 max가 없는 반복문일 경우 사용되고 for문은 max가 있는 경우 사용됨\n",
        "\n",
        "while 조건문 :\n",
        "    실행문1\n",
        "    실행문2\n",
        "    실행문3\n",
        "\n",
        "java에서는 {}으로 실행문의 블럭을 만들지만 파이썬은 들여쓰기로 판단한다\n"
      ],
      "metadata": {
        "id": "qYXAEyk_fsSI"
      }
    },
    {
      "cell_type": "code",
      "execution_count": 1,
      "metadata": {
        "colab": {
          "base_uri": "https://localhost:8080/"
        },
        "id": "D5SydXA9fb3Z",
        "outputId": "4be6fd40-01df-497c-e118-e6c3e20d6627"
      },
      "outputs": [
        {
          "output_type": "stream",
          "name": "stdout",
          "text": [
            "나무를 1번 찍었습니다.\n",
            "나무가 아직 넘어가지 않았습니다.\n",
            "나무를 2번 찍었습니다.\n",
            "나무가 아직 넘어가지 않았습니다.\n",
            "나무를 3번 찍었습니다.\n",
            "나무가 아직 넘어가지 않았습니다.\n",
            "나무를 4번 찍었습니다.\n",
            "나무가 아직 넘어가지 않았습니다.\n",
            "나무를 5번 찍었습니다.\n",
            "나무가 아직 넘어가지 않았습니다.\n",
            "나무를 6번 찍었습니다.\n",
            "나무가 아직 넘어가지 않았습니다.\n",
            "나무를 7번 찍었습니다.\n",
            "나무가 아직 넘어가지 않았습니다.\n",
            "나무를 8번 찍었습니다.\n",
            "나무가 아직 넘어가지 않았습니다.\n",
            "나무를 9번 찍었습니다.\n",
            "나무가 아직 넘어가지 않았습니다.\n",
            "나무를 10번 찍었습니다.\n",
            "나무가 넘어 갑니다.\n"
          ]
        }
      ],
      "source": [
        "#열번찍어 안넘어가는 나무 없다\n",
        "\n",
        "treeHit = 0\n",
        "while treeHit < 10 :#조건 treeHit < 10 : treeHit가 10보다 작으면\n",
        "    treeHit = treeHit + 1 # 반복중에 1씩 증가\n",
        "    print(\"나무를 %d번 찍었습니다.\" % treeHit)\n",
        "    if treeHit == 10 :# 도끼로 찍은 나무의 타격 횟수가 10번인지 판단\n",
        "        print(\"나무가 넘어 갑니다.\")\n",
        "    else:\n",
        "        print(\"나무가 아직 넘어가지 않았습니다.\")"
      ]
    },
    {
      "cell_type": "code",
      "source": [
        "#콘솔에서 프로그램 만들어보기\n",
        "prompt = \"\"\"\n",
        "1.학생가입\n",
        "2.성적입력\n",
        "3.성적출력\n",
        "4.Quit\n",
        "Enter number :\n",
        "\"\"\"\n",
        "number = 0#키보드로 전달되는 변수 초기값\n",
        "while number !=4:#4가 아닐때까지 반복 -> 4입력시 while문 종료\n",
        "    print(prompt)#4가 아닐때 prompt 출력\n",
        "    number = int(input()) #반복중에 입력받을 프롬프트 비교값\n"
      ],
      "metadata": {
        "colab": {
          "base_uri": "https://localhost:8080/"
        },
        "id": "xw7W5DxJiXdQ",
        "outputId": "9964e7c5-2de9-4352-bab5-bbb63ba68bf4"
      },
      "execution_count": 2,
      "outputs": [
        {
          "name": "stdout",
          "output_type": "stream",
          "text": [
            "\n",
            "1.학생가입\n",
            "2.성적입력\n",
            "3.성적출력\n",
            "4.Quit\n",
            "Enter number :\n",
            "\n",
            "3\n",
            "\n",
            "1.학생가입\n",
            "2.성적입력\n",
            "3.성적출력\n",
            "4.Quit\n",
            "Enter number :\n",
            "\n",
            "7\n",
            "\n",
            "1.학생가입\n",
            "2.성적입력\n",
            "3.성적출력\n",
            "4.Quit\n",
            "Enter number :\n",
            "\n",
            "4\n"
          ]
        }
      ]
    },
    {
      "cell_type": "code",
      "source": [
        "#커피 자판기 프로그램\n",
        "\n",
        "coffee = 10#커피는 총 10잔이 준비되어있음\n",
        "money = 300#현재 입금된 금액은 300원\n",
        "while money:\n",
        "    print(\"돈을 받았으니 커피를 줍니다.\")\n",
        "    coffee = coffee -1 #1잔씩 소모\n",
        "    print(\"남은 커피의 양은 %d개 입니다.\" % coffee)\n",
        "    if coffee == 0:\n",
        "        print(\"커피가 다 떨어졌습니다. 판매를 중지합니다.\")\n",
        "        break\n",
        "    else :\n",
        "        print(input(\"커피를드시고 싶으면 5000원을 넣으세요\"))"
      ],
      "metadata": {
        "colab": {
          "base_uri": "https://localhost:8080/"
        },
        "id": "fw9VcPFzkwqA",
        "outputId": "bd2b32ad-a98e-403e-c3ae-79d060006587"
      },
      "execution_count": 3,
      "outputs": [
        {
          "output_type": "stream",
          "name": "stdout",
          "text": [
            "돈을 받았으니 커피를 줍니다.\n",
            "남은 커피의 양은 9개 입니다.\n",
            "커피를드시고 싶으면 5000원을 넣으세요200\n",
            "200\n",
            "돈을 받았으니 커피를 줍니다.\n",
            "남은 커피의 양은 8개 입니다.\n",
            "커피를드시고 싶으면 5000원을 넣으세요3670\n",
            "3670\n",
            "돈을 받았으니 커피를 줍니다.\n",
            "남은 커피의 양은 7개 입니다.\n",
            "커피를드시고 싶으면 5000원을 넣으세요780\n",
            "780\n",
            "돈을 받았으니 커피를 줍니다.\n",
            "남은 커피의 양은 6개 입니다.\n",
            "커피를드시고 싶으면 5000원을 넣으세요756\\\n",
            "756\\\n",
            "돈을 받았으니 커피를 줍니다.\n",
            "남은 커피의 양은 5개 입니다.\n",
            "커피를드시고 싶으면 5000원을 넣으세요1\n",
            "1\n",
            "돈을 받았으니 커피를 줍니다.\n",
            "남은 커피의 양은 4개 입니다.\n",
            "커피를드시고 싶으면 5000원을 넣으세요1\n",
            "1\n",
            "돈을 받았으니 커피를 줍니다.\n",
            "남은 커피의 양은 3개 입니다.\n",
            "커피를드시고 싶으면 5000원을 넣으세요1\n",
            "1\n",
            "돈을 받았으니 커피를 줍니다.\n",
            "남은 커피의 양은 2개 입니다.\n",
            "커피를드시고 싶으면 5000원을 넣으세요1\n",
            "1\n",
            "돈을 받았으니 커피를 줍니다.\n",
            "남은 커피의 양은 1개 입니다.\n",
            "커피를드시고 싶으면 5000원을 넣으세요1\n",
            "1\n",
            "돈을 받았으니 커피를 줍니다.\n",
            "남은 커피의 양은 0개 입니다.\n",
            "커피가 다 떨어졌습니다. 판매를 중지합니다.\n"
          ]
        }
      ]
    },
    {
      "cell_type": "code",
      "source": [
        "from re import I\n",
        "#관리자가 커피 가격과 커피명을 정하고 개수를 입력한다\n",
        "#소비자가 커피를 구매하는데 잔돈이 나와야 함\n",
        "#관리자가 커피 판매한 총액을 파악해야 함\n",
        "\n",
        "coffee = [2500 , 2800 , 3000 , 3100]\n",
        "cof = 50\n",
        "cafe = 50\n",
        "macha = 50\n",
        "ca = 50\n",
        "while True:\n",
        "    money = int(input(\"돈을 넣어주세요: \"))\n",
        "    if money == coffee[0]:\n",
        "        print(\"아메리카노를 줍니다\")\n",
        "        cof = cof -1\n",
        "    elif money == coffee[1]:\n",
        "        print(\"카페라떼를 줍니다\")\n",
        "        cafe = cafe -1\n",
        "    elif money == coffee[2]:\n",
        "        print(\"말차라떼를 줍니다\")\n",
        "        macha = macha -1\n",
        "    elif money == coffee[3]:\n",
        "        print(\"카라멜마끼아또를 줍니다\")\n",
        "        ca = ca -1\n",
        "    else:\n",
        "         print(\"돈을 다시 돌려주고 커피를 주지 않습니다.\")\n",
        "         break"
      ],
      "metadata": {
        "colab": {
          "base_uri": "https://localhost:8080/"
        },
        "id": "S5TrcN8ooWlQ",
        "outputId": "8c4b7b87-87a7-4cb6-c1b0-17aa4f1d3ea1"
      },
      "execution_count": 45,
      "outputs": [
        {
          "output_type": "stream",
          "name": "stdout",
          "text": [
            "돈을 넣어주세요: 1\n",
            "돈을 다시 돌려주고 커피를 주지 않습니다.\n"
          ]
        }
      ]
    },
    {
      "cell_type": "code",
      "source": [
        "from re import I\n",
        "cof = 50\n",
        "ca = 50\n",
        "macha = 50\n",
        "my = 0\n",
        "coffee = \"\"\n",
        "while True:\n",
        "    money = int(input(\"돈을 넣어주세요: \"))\n",
        "    if money == 3200:\n",
        "        print(\"카라멜마끼아또를 줍니다\")\n",
        "        ca = ca -132\n",
        "        my = my + money\n",
        "    elif money == 2500:\n",
        "        print(\"아메리카노를 줍니다\")\n",
        "        cof = cof -1\n",
        "        my = my + money\n",
        "    elif money == 2800:\n",
        "        print(\"말차라떼를 줍니다\")\n",
        "        macha = macha -1\n",
        "        my = my + money\n",
        "    elif money > 3200:\n",
        "        print(\"\\n 1.아메리카노 2500원 \\n 2.말차라떼 2800원 \\n 3.카라멜마끼아또 3200원\")\n",
        "        cofnum = int(input(\"먹을 커피를 골라주세요 : \"))\n",
        "        if cofnum == 1:\n",
        "            print(\"아메리카노를 주고 거스름돈 %d를 줍니다\" %(money - 2500))\n",
        "            cof = cof -1\n",
        "            nam = money - 2500\n",
        "            my = my + (money - nam)\n",
        "        elif cofnum == 2:\n",
        "            print(\"말차라떼를 주고 거스름돈 %d를 줍니다\" %(money - 2800))\n",
        "            macha = macha -1\n",
        "            nam = money - 2800\n",
        "            my = my + (money - nam)\n",
        "        elif cofnum == 3:\n",
        "            print(\"카라멜마끼아또를 주고 거스름돈 %d를 줍니다\" %(money - 3200))\n",
        "            ca = ca - 3200\n",
        "            nam = money - 3200\n",
        "            my = my + (money - nam)\n",
        "        elif cofnum > 4:\n",
        "            print(\"\\n 1.아메리카노 2500원 \\n 2.말차라떼 2800원 \\n 3.카라멜마끼아또 3200원\")\n",
        "            cofnum = int(input(\"다시 골라주세요 : \"))\n",
        "        elif cofnum == 4:\n",
        "            print(\"돈을 다시 돌려주고 커피를 주지 않습니다.\")\n",
        "            break\n",
        "    else:\n",
        "         print(\"돈을 다시 돌려주고 커피를 주지 않습니다.\")\n",
        "         break\n",
        "print(\"판매총액 : \", my)"
      ],
      "metadata": {
        "colab": {
          "base_uri": "https://localhost:8080/"
        },
        "id": "HjIpPL6bwXxS",
        "outputId": "cb263c1c-4f5c-4a9a-a2bf-c95ec1e1a28b"
      },
      "execution_count": 80,
      "outputs": [
        {
          "output_type": "stream",
          "name": "stdout",
          "text": [
            "돈을 넣어주세요: 8965\n",
            "\n",
            " 1.아메리카노 2500원 \n",
            " 2.말차라떼 2800원 \n",
            " 3.카라멜마끼아또 3200원\n",
            "먹을 커피를 골라주세요 : 5\n",
            "\n",
            " 1.아메리카노 2500원 \n",
            " 2.말차라떼 2800원 \n",
            " 3.카라멜마끼아또 3200원\n",
            "다시 골라주세요 : 98\n",
            "돈을 넣어주세요: 4\n",
            "돈을 다시 돌려주고 커피를 주지 않습니다.\n",
            "판매총액 :  0\n"
          ]
        }
      ]
    },
    {
      "cell_type": "markdown",
      "source": [
        "* 관리자가 커피 가격과 커피명을 정하고 개수를 입력한다\n",
        "* 소비자가 커피를 구매하는데 잔돈이 나와야 함\n",
        "* 관리자가 커피 판매한 총액을 파악해야 함"
      ],
      "metadata": {
        "id": "HYcoZobhybrp"
      }
    },
    {
      "cell_type": "code",
      "source": [
        "cof = 3\n",
        "ca = 3\n",
        "macha = 3\n",
        "my = 0\n",
        "coffee = \"\"\n",
        "while True:\n",
        "    print(\"\\n 1.아메리카노 2500원 \\n 2.말차라떼 2800원 \\n 3.카라멜마끼아또 3200원\")\n",
        "    cofnum = int(input(\"먹을 커피를 골라주세요 : \"))\n",
        "    if cofnum == 1:\n",
        "        money = int(input(\"돈을 넣어주세요: \"))\n",
        "        if money == 2500:\n",
        "            print(\"아메리카노를 줍니다\")\n",
        "            cof = cof -1\n",
        "            my = my + money\n",
        "        elif money > 2500:\n",
        "            print(\"거스름돈 %d를 줍니다\" %(money - 2500))\n",
        "            cof = cof -1\n",
        "            nam = money - 2500\n",
        "            my = my + (money - nam)\n",
        "        else:\n",
        "            print(\"돈을 다시 돌려주고 커피를 주지 않습니다.\")\n",
        "    elif cofnum == 2:\n",
        "        money = int(input(\"돈을 넣어주세요: \"))\n",
        "        if money == 2800:\n",
        "            print(\"말차라떼를 줍니다\")\n",
        "            macha = macha -1\n",
        "            my = my + money\n",
        "        elif money > 2800:\n",
        "            print(\"거스름돈 %d를 줍니다\" %(money - 2800))\n",
        "            macha = macha -1\n",
        "            nam = money - 2800\n",
        "            my = my + (money - nam)\n",
        "        else:\n",
        "            print(\"돈을 다시 돌려주고 커피를 주지 않습니다.\")\n",
        "    elif cofnum == 3:\n",
        "        money = int(input(\"돈을 넣어주세요: \"))\n",
        "        if money == 3200:\n",
        "            print(\"카라멜마끼아또를 줍니다\")\n",
        "            ca = ca -1\n",
        "            my = my + money\n",
        "        elif money > 3200:\n",
        "            print(\"거스름돈 %d를 줍니다\" %(money - 3200))\n",
        "            ca = ca -1\n",
        "            nam = money - 3200\n",
        "            my = my + (money - nam)\n",
        "        else:\n",
        "            print(\"돈을 다시 돌려주고 커피를 주지 않습니다.\")\n",
        "    elif cofnum > 4:\n",
        "        print(\"다시 골라주세요 : \")\n",
        "    elif cofnum == 4:\n",
        "        print(\"커피를 주지 않습니다.\")\n",
        "        break\n",
        "\n",
        "print(\"판매총액 : \", my)"
      ],
      "metadata": {
        "colab": {
          "base_uri": "https://localhost:8080/"
        },
        "id": "dcAOHwrMxUY8",
        "outputId": "6323b51a-6751-499b-90dd-409a4f308163"
      },
      "execution_count": 82,
      "outputs": [
        {
          "output_type": "stream",
          "name": "stdout",
          "text": [
            "\n",
            " 1.아메리카노 2500원 \n",
            " 2.말차라떼 2800원 \n",
            " 3.카라멜마끼아또 3200원\n",
            "먹을 커피를 골라주세요 : 7895\n",
            "다시 골라주세요 : \n",
            "\n",
            " 1.아메리카노 2500원 \n",
            " 2.말차라떼 2800원 \n",
            " 3.카라멜마끼아또 3200원\n",
            "먹을 커피를 골라주세요 : 1\n",
            "돈을 넣어주세요: 9865\n",
            "거스름돈 7365를 줍니다\n",
            "\n",
            " 1.아메리카노 2500원 \n",
            " 2.말차라떼 2800원 \n",
            " 3.카라멜마끼아또 3200원\n",
            "먹을 커피를 골라주세요 : 2\n",
            "돈을 넣어주세요: 4569\n",
            "거스름돈 1769를 줍니다\n",
            "\n",
            " 1.아메리카노 2500원 \n",
            " 2.말차라떼 2800원 \n",
            " 3.카라멜마끼아또 3200원\n",
            "먹을 커피를 골라주세요 : 3\n",
            "돈을 넣어주세요: 4568\n",
            "거스름돈 1368를 줍니다\n",
            "\n",
            " 1.아메리카노 2500원 \n",
            " 2.말차라떼 2800원 \n",
            " 3.카라멜마끼아또 3200원\n",
            "먹을 커피를 골라주세요 : 2\n",
            "돈을 넣어주세요: 6545\n",
            "거스름돈 3745를 줍니다\n",
            "\n",
            " 1.아메리카노 2500원 \n",
            " 2.말차라떼 2800원 \n",
            " 3.카라멜마끼아또 3200원\n",
            "먹을 커피를 골라주세요 : 4\n",
            "커피를 주지 않습니다.\n",
            "판매총액 :  11300\n"
          ]
        }
      ]
    },
    {
      "cell_type": "code",
      "source": [
        "cof = 3\n",
        "ca = 3\n",
        "macha = 3\n",
        "my = 0\n",
        "coffee = \"\"\n",
        "while True:\n",
        "        print(\"==========================================\")\n",
        "        print(\"1.아메리카노 \", cof,\"개, \", \"2.말차라떼 \",macha,\"개, \",\"3.카라멜마끼아또 \",ca,\"개, \",\"4.취소\")\n",
        "        print(\"      2500원              2800원                3200원\")\n",
        "        cofnum = int(input(\"먹을 커피를 골라주세요 : \"))\n",
        "        print(\"==========================================\")\n",
        "        if cofnum == 1:\n",
        "            money = int(input(\"돈을 넣어주세요: \"))\n",
        "            if money == 2500:\n",
        "                print(\"아메리카노를 줍니다\")\n",
        "                cof = cof -1\n",
        "                my = my + money\n",
        "                if cof == 0:\n",
        "                    print(\"아메리카노가 다 떨어졌습니다.\")\n",
        "                    break\n",
        "            elif money > 2500:\n",
        "                print(\"거스름돈 %d를 주고 아메리카노를 줍니다\" %(money - 2500))\n",
        "                cof = cof -1\n",
        "                nam = money - 2500\n",
        "                my = my + (money - nam)\n",
        "                if cof == 0:\n",
        "                    print(\"아메리카노가 다 떨어졌습니다.\")\n",
        "                    break\n",
        "            else:\n",
        "                print(\"돈을 다시 돌려주고 커피를 주지 않습니다.\")\n",
        "        elif cofnum == 2:\n",
        "            money = int(input(\"돈을 넣어주세요: \"))\n",
        "            if money == 2800:\n",
        "                print(\"말차라떼를 줍니다\")\n",
        "                macha = macha -1\n",
        "                my = my + money\n",
        "                if macha == 0:\n",
        "                    print(\"말차라떼가 다 떨어졌습니다.\")\n",
        "                    break\n",
        "            elif money > 2800:\n",
        "                print(\"거스름돈 %d를 주고 말차라떼를 줍니다\" %(money - 2800))\n",
        "                macha = macha -1\n",
        "                nam = money - 2800\n",
        "                my = my + (money - nam)\n",
        "                if macha == 0:\n",
        "                    print(\"말차라떼가 다 떨어졌습니다.\")\n",
        "                    break\n",
        "            else:\n",
        "                print(\"돈을 다시 돌려주고 커피를 주지 않습니다.\")\n",
        "        elif cofnum == 3:\n",
        "            money = int(input(\"돈을 넣어주세요: \"))\n",
        "            if money == 3200:\n",
        "                print(\"카라멜마끼아또를 줍니다\")\n",
        "                ca = ca -1\n",
        "                my = my + money\n",
        "                if ca == 0:\n",
        "                    print(\"카라멜마끼아또가 다 떨어졌습니다.\")\n",
        "                    break\n",
        "            elif money > 3200:\n",
        "                print(\"거스름돈 %d를 주고 카라멜마끼아또를 줍니다\" %(money - 3200))\n",
        "                ca = ca -1\n",
        "                nam = money - 3200\n",
        "                my = my + (money - nam)\n",
        "                if ca == 0:\n",
        "                    print(\"카라멜마끼아또가 다 떨어졌습니다.\")\n",
        "                    break\n",
        "            else:\n",
        "                print(\"돈을 다시 돌려주고 커피를 주지 않습니다.\")\n",
        "        elif cofnum > 4:\n",
        "            print(\"다시 골라주세요.\")\n",
        "        elif cofnum == 4:\n",
        "            print(\"커피를 주지 않습니다.\")\n",
        "            break\n",
        "\n",
        "print(\"판매총액 : \", my)"
      ],
      "metadata": {
        "colab": {
          "base_uri": "https://localhost:8080/"
        },
        "id": "fu981-sJ81Vs",
        "outputId": "f4813edd-7202-4e39-dcbe-b6e161ec1d43"
      },
      "execution_count": 106,
      "outputs": [
        {
          "output_type": "stream",
          "name": "stdout",
          "text": [
            "==========================================\n",
            "1.아메리카노  3 개,  2.말차라떼  3 개,  3.카라멜마끼아또  3 개,  4.취소\n",
            "      2500원              2800원                3200원\n",
            "먹을 커피를 골라주세요 : 4\n",
            "==========================================\n",
            "커피를 주지 않습니다.\n",
            "판매총액 :  0\n"
          ]
        }
      ]
    }
  ]
}