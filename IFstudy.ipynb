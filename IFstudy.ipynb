{
  "nbformat": 4,
  "nbformat_minor": 0,
  "metadata": {
    "colab": {
      "provenance": [],
      "authorship_tag": "ABX9TyPdRmKRQHuCXQKwgWis9mpm",
      "include_colab_link": true
    },
    "kernelspec": {
      "name": "python3",
      "display_name": "Python 3"
    },
    "language_info": {
      "name": "python"
    }
  },
  "cells": [
    {
      "cell_type": "markdown",
      "metadata": {
        "id": "view-in-github",
        "colab_type": "text"
      },
      "source": [
        "<a href=\"https://colab.research.google.com/github/dbsdlsdud/pythonStudy24/blob/master/IFstudy.ipynb\" target=\"_parent\"><img src=\"https://colab.research.google.com/assets/colab-badge.svg\" alt=\"Open In Colab\"/></a>"
      ]
    },
    {
      "cell_type": "markdown",
      "source": [
        "프로그램의 판단을 할 수 있는 조건문인 if를 사용해본다.\n",
        "\n",
        "if문은 만약에 라는 의미를 가지고 있고 결과는 참과 거짓으로 판단한다"
      ],
      "metadata": {
        "id": "CJy3A17ynwTy"
      }
    },
    {
      "cell_type": "code",
      "execution_count": 2,
      "metadata": {
        "colab": {
          "base_uri": "https://localhost:8080/"
        },
        "id": "-nY6fmbUnY4V",
        "outputId": "e43366b2-fa2e-41dc-84a4-5e24a8ef1a73"
      },
      "outputs": [
        {
          "output_type": "stream",
          "name": "stdout",
          "text": [
            "택시를 타고 가라\n",
            "모범택시는 비싸니 다음 택시를 기다려라\n",
            "택시가 안보이면 카카오택시를 불러라\n"
          ]
        }
      ],
      "source": [
        "#돈이 있으면 택시를 타고 가고 돈이 없으면 걸어간다\n",
        "\n",
        "money = True #돈이 있으면\n",
        "\n",
        "if money:#파이썬에는 {} 없기 때문에 :으로 구문을 내린다\n",
        "    print(\"택시를 타고 가라\")#True일때 처리 (하위 처리를 위해서 뛰어쓰기 4번진행\n",
        "    print(\"모범택시는 비싸니 다음 택시를 기다려라\")\n",
        "    print(\"택시가 안보이면 카카오택시를 불러라\")\n",
        "else:#False일때 처리\n",
        "    print(\"================\")\n",
        "    print(\"걸어가라\")#False용 명령어\n",
        "    print(\"==============\")"
      ]
    },
    {
      "cell_type": "code",
      "source": [
        "money =72000\n",
        "if money >= 3000: #if뒤에 써지는 문장이 조건 :\n",
        "    print(\"택시를 타고 가라\")#true\n",
        "else:#false\n",
        "    print(\"걸어가라\")"
      ],
      "metadata": {
        "colab": {
          "base_uri": "https://localhost:8080/"
        },
        "id": "Q0UXNIzzuLjT",
        "outputId": "b52fd3eb-b040-4af5-e0ac-c1428427a145"
      },
      "execution_count": 5,
      "outputs": [
        {
          "output_type": "stream",
          "name": "stdout",
          "text": [
            "택시를 타고 가라\n"
          ]
        }
      ]
    },
    {
      "cell_type": "code",
      "source": [
        "# x or y -> 또는 (둘 중 하나만 참이어도 참)\n",
        "# x and y -> ~이고 (둘다 참이어야 참)\n",
        "# not x -> x가 아니면 참(거짓, 반전)\n",
        "#돈이 3000원 이상 있거나 카드가 있다면 택시를 타고 가고 아니면 걸어가라\n",
        "money = 2000\n",
        "card = True\n",
        "if money >= 3000 or card:\n",
        "    print(\"택시를 타고 가라\")\n",
        "else:\n",
        "    print(\"걸어가라\")\n",
        "#or연산 진리표\n",
        "#money or card = 결과\n",
        "#  0       0      0\n",
        "#  1       0      1\n",
        "#  0       1      1\n",
        "#  1       1      1"
      ],
      "metadata": {
        "id": "4KpfTyLbwa0L"
      },
      "execution_count": null,
      "outputs": []
    },
    {
      "cell_type": "code",
      "source": [
        "#in , not in\n",
        "# x in 리스트, x not in 리스트\n",
        "#x in 튜플 , x not in 튜플\n",
        "#x in 무ㄴ자열, x not in 문자열\n",
        "\n",
        "1 not in [1,2,3] #리스트"
      ],
      "metadata": {
        "colab": {
          "base_uri": "https://localhost:8080/"
        },
        "id": "rhlqCFGFymtE",
        "outputId": "49be8bde-fb18-4a1f-e4fb-6e35a7a0db79"
      },
      "execution_count": 7,
      "outputs": [
        {
          "output_type": "execute_result",
          "data": {
            "text/plain": [
              "False"
            ]
          },
          "metadata": {},
          "execution_count": 7
        }
      ]
    },
    {
      "cell_type": "code",
      "source": [
        "'a' in ('a','b','c') #튜플"
      ],
      "metadata": {
        "colab": {
          "base_uri": "https://localhost:8080/"
        },
        "id": "ATBBND7RzoK0",
        "outputId": "463cf20a-5175-45eb-b605-e2c6be5dc218"
      },
      "execution_count": 8,
      "outputs": [
        {
          "output_type": "execute_result",
          "data": {
            "text/plain": [
              "True"
            ]
          },
          "metadata": {},
          "execution_count": 8
        }
      ]
    },
    {
      "cell_type": "code",
      "source": [
        "'j' not in 'python'"
      ],
      "metadata": {
        "colab": {
          "base_uri": "https://localhost:8080/"
        },
        "id": "2nlut03Bz1Ab",
        "outputId": "bc5e3731-a596-4e12-a4bc-b36b6782233d"
      },
      "execution_count": 9,
      "outputs": [
        {
          "output_type": "execute_result",
          "data": {
            "text/plain": [
              "True"
            ]
          },
          "metadata": {},
          "execution_count": 9
        }
      ]
    },
    {
      "cell_type": "code",
      "source": [
        "#만약 주머니에 돈이 있으면 택시를 타고가고 없으면 걸어가라\n",
        "pocket = ['paper','cellchone','money']\n",
        "if 'money' in pocket :\n",
        "    print(\"택시를 타고 가라\")\n",
        "else:\n",
        "    print(\"걸어가라\")"
      ],
      "metadata": {
        "colab": {
          "base_uri": "https://localhost:8080/"
        },
        "id": "HYfTcSio2g8E",
        "outputId": "9778392e-69cb-4790-8e1d-dc12a60d0da9"
      },
      "execution_count": 10,
      "outputs": [
        {
          "output_type": "stream",
          "name": "stdout",
          "text": [
            "택시를 타고 가라\n"
          ]
        }
      ]
    },
    {
      "cell_type": "code",
      "source": [
        "#조건문에서 아무 일도 하지 않게 서 ㄹ정하고 싶을때 pass\n",
        "#조건문의 참,거짓에 따라 실행할 행동을 정의할때, 아무런 일도 하지않도록 설정하고 싶을때\n",
        "#주머니에 돈이 있으면 가ㅏ만히 있고 주머니에 돈이 없으면 카드를 꺼내라\n",
        "pocket = ['paper','smartPhone','card']\n",
        "if 'money' in pocket:\n",
        "    pass#skip같은 의미\n",
        "else:\n",
        "    print(\"카드를 꺼내라\")"
      ],
      "metadata": {
        "colab": {
          "base_uri": "https://localhost:8080/"
        },
        "id": "liNSFv-l3OUe",
        "outputId": "5b87cdcb-0629-4e47-8d23-1f039c45e0bc"
      },
      "execution_count": 12,
      "outputs": [
        {
          "output_type": "stream",
          "name": "stdout",
          "text": [
            "카드를 꺼내라\n"
          ]
        }
      ]
    },
    {
      "cell_type": "code",
      "source": [
        "#elif는 if문 아래쪽에 한번 더 비교하는 조건문(elif의 사용횟수는 무제한)\n",
        "#주머니에 돈이 있으면 택시를 타고 가고 주머니에 돈은 없지만 카드가 있으면 택시를 타고가고\n",
        "#주머니에 돈도 없고 카드도 없으면 걸어가라\n",
        "pocket = ['paper','cellphone']\n",
        "card = True\n",
        "if 'money' in pocket:\n",
        "    print(\"택시를 타고 가라\")\n",
        "elif card:\n",
        "    print(\"택시를 타고 가라\")\n",
        "else:\n",
        "    print(\"걸어가라\")"
      ],
      "metadata": {
        "colab": {
          "base_uri": "https://localhost:8080/"
        },
        "id": "QDsdoGqO7UIt",
        "outputId": "46fcdee3-50c6-4aaf-a74d-2f1c03b0d79b"
      },
      "execution_count": 13,
      "outputs": [
        {
          "output_type": "stream",
          "name": "stdout",
          "text": [
            "택시를 타고 가라\n"
          ]
        }
      ]
    },
    {
      "cell_type": "code",
      "source": [
        "#패션코딩 -> 최대한 간결하게 코딩하는 기법\n",
        "\n",
        "if 'money' in pocket : print(\"택시를 타고 가라\")\n",
        "elif card: print(\"택시를 타고 가라\")\n",
        "else:print(\"걸어가라\")"
      ],
      "metadata": {
        "colab": {
          "base_uri": "https://localhost:8080/"
        },
        "id": "Pg4jh2A79aXV",
        "outputId": "9796e382-4db6-4eb3-c8e7-bd84674fafb6"
      },
      "execution_count": 14,
      "outputs": [
        {
          "output_type": "stream",
          "name": "stdout",
          "text": [
            "택시를 타고 가라\n"
          ]
        }
      ]
    },
    {
      "cell_type": "code",
      "source": [
        "#시험 점수가 60점 이상이면 success, 아니면 failure를 변수에 담아 출력해보자.\n"
      ],
      "metadata": {
        "id": "J2Q7Kyep_Tjl"
      },
      "execution_count": null,
      "outputs": []
    },
    {
      "cell_type": "code",
      "source": [
        "score = 88\n",
        "if score >= 60:\n",
        "    message = \"success\"\n",
        "else:\n",
        "    message = \"failure\"\n",
        "\n",
        "print(message)"
      ],
      "metadata": {
        "colab": {
          "base_uri": "https://localhost:8080/"
        },
        "id": "OBv3DRNY_f7l",
        "outputId": "918e9c7b-3cba-4a5f-c774-a786afafd483"
      },
      "execution_count": 15,
      "outputs": [
        {
          "output_type": "stream",
          "name": "stdout",
          "text": [
            "success\n"
          ]
        }
      ]
    },
    {
      "cell_type": "code",
      "source": [
        "#파이썬의 조건부 표현식\n",
        "#변수 = 참인 경우의 값 if 조건문 else 거짓인 경우의 값\n",
        "message = \"success\" if score >=60 else \"failure\"\n",
        "print(message)"
      ],
      "metadata": {
        "colab": {
          "base_uri": "https://localhost:8080/"
        },
        "id": "Pd84H3Bj_14d",
        "outputId": "6a8d1508-a323-41bc-d2f3-493099769141"
      },
      "execution_count": 16,
      "outputs": [
        {
          "output_type": "stream",
          "name": "stdout",
          "text": [
            "success\n"
          ]
        }
      ]
    },
    {
      "cell_type": "code",
      "source": [
        "#성적처리용 코드 작성 a등급~ f등급까지 출력\n",
        "score = int(input(\"점수를 입력하세요\"))\n",
        "if score >= 90: print(\"A\")\n",
        "elif score >= 80: print(\"B\")\n",
        "elif score >= 70: print(\"C\")\n",
        "elif score >= 60: print(\"D\")\n",
        "else: print(\"F\")"
      ],
      "metadata": {
        "colab": {
          "base_uri": "https://localhost:8080/"
        },
        "id": "iKMexJaXAGt8",
        "outputId": "b651231f-c9bc-4c2f-9222-96f846ad56e4"
      },
      "execution_count": 24,
      "outputs": [
        {
          "output_type": "stream",
          "name": "stdout",
          "text": [
            "점수를 입력하세요80\n",
            "B\n"
          ]
        }
      ]
    },
    {
      "cell_type": "code",
      "source": [
        "eng = input(\"영어점수를 입력하세요\")\n",
        "mat = input(\"수학점수를 입력하세요\")\n",
        "kor = input(\"국어점수를 입력하세요\")\n",
        "\n",
        "if not eng.isdigit(): #eng가 숫자가 아니면\n",
        "    print(\"숫자로 입력해주세요\")\n",
        "elif not mat.isdigit():\n",
        "    print(\"숫자로 입력해주세요\")\n",
        "elif not kor.isdigit():\n",
        "    print(\"숫자로 입력해주세요\")\n",
        "else:\n",
        "    print(\"영어점수 : \" + eng + \"점\", \"수학점수 : \" + mat + \"점\", \"국어점수 : \" + kor + \"점\")\n",
        "\n",
        "sum = int(eng) + int(mat) + int(kor)\n",
        "print(\"총점 : \", sum)\n",
        "\n",
        "avg = int(sum) / 3\n",
        "print(\"평균 : 8\", avg)\n",
        "\n",
        "if avg >= 90: print(\"A등급\")\n",
        "elif avg >= 80: print(\"B등급\")\n",
        "elif avg >= 70: print(\"C등급\")\n",
        "elif avg >= 60: print(\"D등급\")\n",
        "else: print(\"F등급\")"
      ],
      "metadata": {
        "colab": {
          "base_uri": "https://localhost:8080/"
        },
        "id": "oHTBBtNhDYlW",
        "outputId": "ccc77d45-a342-4d1a-b6fe-b87a9a9ec596"
      },
      "execution_count": 41,
      "outputs": [
        {
          "output_type": "stream",
          "name": "stdout",
          "text": [
            "영어점수를 입력하세요80\n",
            "수학점수를 입력하세요80\n",
            "국어점수를 입력하세요80\n",
            "영어점수 : 80점 수학점수 : 80점 국어점수 : 80점\n",
            "총점 :  240\n",
            "평균 :  80.0\n",
            "B등급\n"
          ]
        }
      ]
    },
    {
      "cell_type": "code",
      "source": [
        "sum"
      ],
      "metadata": {
        "colab": {
          "base_uri": "https://localhost:8080/"
        },
        "id": "FNUxJgP-RfhY",
        "outputId": "6efbdb18-9c6c-434e-b182-22fba355955d"
      },
      "execution_count": 35,
      "outputs": [
        {
          "output_type": "execute_result",
          "data": {
            "text/plain": [
              "0"
            ]
          },
          "metadata": {},
          "execution_count": 35
        }
      ]
    }
  ]
}