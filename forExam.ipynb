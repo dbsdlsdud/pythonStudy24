{
  "nbformat": 4,
  "nbformat_minor": 0,
  "metadata": {
    "colab": {
      "provenance": [],
      "authorship_tag": "ABX9TyPMUv5NjQ2m9IEzEVryyjEk",
      "include_colab_link": true
    },
    "kernelspec": {
      "name": "python3",
      "display_name": "Python 3"
    },
    "language_info": {
      "name": "python"
    }
  },
  "cells": [
    {
      "cell_type": "markdown",
      "metadata": {
        "id": "view-in-github",
        "colab_type": "text"
      },
      "source": [
        "<a href=\"https://colab.research.google.com/github/dbsdlsdud/pythonStudy24/blob/master/forExam.ipynb\" target=\"_parent\"><img src=\"https://colab.research.google.com/assets/colab-badge.svg\" alt=\"Open In Colab\"/></a>"
      ]
    },
    {
      "cell_type": "markdown",
      "source": [
        "for문 연습\n",
        "\n",
        "for문은 while문과 같은 반복문으로 차이점은 max가 있나 없나이다.\n",
        "\n",
        "for문은 구구단과 같이 9라는 max값이 있을때 사용\n",
        "\n",
        "while은 max가 없지만 종료되는 시점을 만들어 제공(강제종료 ctrl+c)\n",
        "\n",
        "for 변수 in (리스트, 튜플, 문자열):\n",
        "    실행문1\n",
        "    실행문1\n",
        "\n",
        "자바의 향상 for문, forEach문과 같다."
      ],
      "metadata": {
        "id": "v_bSLEhVBw44"
      }
    },
    {
      "cell_type": "code",
      "execution_count": null,
      "metadata": {
        "colab": {
          "base_uri": "https://localhost:8080/"
        },
        "id": "XxJHQrB6BpdX",
        "outputId": "018f423b-e9f8-44c9-b428-00ff1beeb5da"
      },
      "outputs": [
        {
          "output_type": "stream",
          "name": "stdout",
          "text": [
            "one\n",
            "two\n",
            "three\n"
          ]
        }
      ],
      "source": [
        "#전형적인 for문\n",
        "\n",
        "test_list = [\"one\", 'two', 'three']\n",
        "for i in test_list:\n",
        "    print(i)"
      ]
    },
    {
      "cell_type": "code",
      "source": [
        "#다양한 for문 사용\n",
        "a = [(1,2),(3,4),(5,6)]\n",
        "for (first, last) in a:\n",
        "    print(first+last)"
      ],
      "metadata": {
        "colab": {
          "base_uri": "https://localhost:8080/"
        },
        "id": "2trX68fCD5aJ",
        "outputId": "5663bd06-f430-4018-8719-e2d486b1f2e4"
      },
      "execution_count": null,
      "outputs": [
        {
          "output_type": "stream",
          "name": "stdout",
          "text": [
            "3\n",
            "7\n",
            "11\n"
          ]
        }
      ]
    },
    {
      "cell_type": "code",
      "source": [
        "#총 5명의 학생이 시험을 보았는데 시험 점수가 60점 이상이면 합격이고 그렇지 않으면 불합격이다.\n",
        "marks = [90,98,15,88,25]                #학생별 시험 점수, 5명\n",
        "number = 0                              #학생출력시 번호 지정\n",
        "for mark in marks:                      #리스트(marks)에 있는 객체를 앞에서부터 한개씩 가져와 mark변수에 넣음\n",
        "    number = number + 1\n",
        "    if mark >= 60:\n",
        "        print(\"%d번 학생은 합격입니다.\" % number)\n",
        "    else:\n",
        "        print(\"%d번 학생은 불합격입니다.\" % number)"
      ],
      "metadata": {
        "colab": {
          "base_uri": "https://localhost:8080/"
        },
        "id": "ZnpJB1ezFJUI",
        "outputId": "bafb2b71-0214-405e-cd9c-6c5cee59e853"
      },
      "execution_count": null,
      "outputs": [
        {
          "output_type": "stream",
          "name": "stdout",
          "text": [
            "1번 학생은 합격입니다.\n",
            "2번 학생은 합격입니다.\n",
            "3번 학생은 불합격입니다.\n",
            "4번 학생은 합격입니다.\n",
            "5번 학생은 불합격입니다.\n"
          ]
        }
      ]
    },
    {
      "cell_type": "code",
      "source": [
        "#for +continue\n",
        "\n",
        "marks = [90,98,15,88,25]            #학생들의 점수 리스트\n",
        "number = 0                          #학생번호\n",
        "for mark in marks:                  #리스트(marks) 반복문\n",
        "    number = number + 1             #학생번호 증가\n",
        "    if mark < 60:                   #점수가 < 60\n",
        "        continue                    #60보다 작을때 위로 올라감\n",
        "    print(\"%d번 학생 축하합니다. 합격입니다.\" % number) #60이상일때 처리문"
      ],
      "metadata": {
        "colab": {
          "base_uri": "https://localhost:8080/"
        },
        "id": "JiA61B68JXxh",
        "outputId": "8a7cd89a-913c-4331-881b-f3fac6b683c9"
      },
      "execution_count": null,
      "outputs": [
        {
          "output_type": "stream",
          "name": "stdout",
          "text": [
            "1번 학생 축하합니다. 합격입니다.\n",
            "2번 학생 축하합니다. 합격입니다.\n",
            "4번 학생 축하합니다. 합격입니다.\n"
          ]
        }
      ]
    },
    {
      "cell_type": "code",
      "source": [
        "#for문과 같이 자주 쓰는 range()\n",
        "\n",
        "a = range(10) #0부터 10미만 숫자르ㄹ 포함하는 객체를 만들어줌\n",
        "a              # 0~9까지 값을 가지고 있음"
      ],
      "metadata": {
        "colab": {
          "base_uri": "https://localhost:8080/"
        },
        "id": "WwaP7UKeJ_m5",
        "outputId": "be7751db-b67a-48e8-b9ae-2d45b45fc0e7"
      },
      "execution_count": null,
      "outputs": [
        {
          "output_type": "execute_result",
          "data": {
            "text/plain": [
              "range(0, 10)"
            ]
          },
          "metadata": {},
          "execution_count": 6
        }
      ]
    },
    {
      "cell_type": "code",
      "source": [
        "a = range(1,11)#(시작값,끝값:끝숫자는 포함되지 않는다.)\n",
        "a               #1~10까지 값을 가지고 있음"
      ],
      "metadata": {
        "colab": {
          "base_uri": "https://localhost:8080/"
        },
        "id": "EFSEgiU8KmNR",
        "outputId": "61515c47-0e33-459d-994c-cf6dc793f9fe"
      },
      "execution_count": null,
      "outputs": [
        {
          "output_type": "execute_result",
          "data": {
            "text/plain": [
              "range(1, 11)"
            ]
          },
          "metadata": {},
          "execution_count": 7
        }
      ]
    },
    {
      "cell_type": "code",
      "source": [
        "for i in range(1,11):\n",
        "    print(i)"
      ],
      "metadata": {
        "colab": {
          "base_uri": "https://localhost:8080/"
        },
        "id": "PjRKPHaKK5_g",
        "outputId": "6520821d-a249-4775-ca3a-d6d0c4148d55"
      },
      "execution_count": null,
      "outputs": [
        {
          "output_type": "stream",
          "name": "stdout",
          "text": [
            "1\n",
            "2\n",
            "3\n",
            "4\n",
            "5\n",
            "6\n",
            "7\n",
            "8\n",
            "9\n",
            "10\n"
          ]
        }
      ]
    },
    {
      "cell_type": "code",
      "source": [
        "marks = [90,65,47,23,86]\n",
        "for number in range(len(marks)):\n",
        "    if marks[number] < 60:\n",
        "        continue\n",
        "    print(\"%d번 학생 축하합니다. 합격입니다.\" % (number+1))"
      ],
      "metadata": {
        "colab": {
          "base_uri": "https://localhost:8080/"
        },
        "id": "28r8FltHLP_Q",
        "outputId": "b54b4932-e0ad-4815-c3a0-5cefd203a48a"
      },
      "execution_count": null,
      "outputs": [
        {
          "output_type": "stream",
          "name": "stdout",
          "text": [
            "1번 학생 축하합니다. 합격입니다.\n",
            "2번 학생 축하합니다. 합격입니다.\n",
            "5번 학생 축하합니다. 합격입니다.\n"
          ]
        }
      ]
    },
    {
      "cell_type": "code",
      "source": [
        "#구구단을 만들어 보자 2*1 ~ 9*9=81\n",
        "#다중 for문\n",
        "\n",
        "for i in range(2,10):       #2단~9단까지 반복\n",
        "    for j in range(1,10):   #단마다 곱해지는 값 1~9\n",
        "        print(i*j, end=\", \") #각 단마다 곱하고 출력\n",
        "                            #print end 파라미터는 기본 엔터를 하지 않고 \"\"로\n",
        "    print('')               #단이 끝나면 엔터 효과"
      ],
      "metadata": {
        "colab": {
          "base_uri": "https://localhost:8080/"
        },
        "id": "iRelRpxNMAt5",
        "outputId": "6d1296d6-8129-4a80-8e1f-e73edd64362b"
      },
      "execution_count": null,
      "outputs": [
        {
          "output_type": "stream",
          "name": "stdout",
          "text": [
            "2, 4, 6, 8, 10, 12, 14, 16, 18, \n",
            "3, 6, 9, 12, 15, 18, 21, 24, 27, \n",
            "4, 8, 12, 16, 20, 24, 28, 32, 36, \n",
            "5, 10, 15, 20, 25, 30, 35, 40, 45, \n",
            "6, 12, 18, 24, 30, 36, 42, 48, 54, \n",
            "7, 14, 21, 28, 35, 42, 49, 56, 63, \n",
            "8, 16, 24, 32, 40, 48, 56, 64, 72, \n",
            "9, 18, 27, 36, 45, 54, 63, 72, 81, \n"
          ]
        }
      ]
    },
    {
      "cell_type": "code",
      "source": [
        "#리스트 컴프리헨션 -> 결과를 리스트로 저장\n",
        "#리스트 컴프리헨션을 사용하지 않는 바ㅇ법\n",
        "a = [1,2,3,4]   #입력 리스트값\n",
        "result = []     #출력 리스트값\n",
        "for num in a:   #입력 리스트값을 한개씩 가져와 num에 넣는다\n",
        "    result.append(num*3)    #출력 리스트값에 3을 곱해 추가(.append)\n",
        "print(result)               #반복 후에 출력"
      ],
      "metadata": {
        "colab": {
          "base_uri": "https://localhost:8080/"
        },
        "id": "4X1a3tU-NXnC",
        "outputId": "2dab57a1-30f1-43f1-c913-acc523ff4656"
      },
      "execution_count": null,
      "outputs": [
        {
          "output_type": "stream",
          "name": "stdout",
          "text": [
            "[3, 6, 9, 12]\n"
          ]
        }
      ]
    },
    {
      "cell_type": "code",
      "source": [
        "a = [1,2,3,4]\n",
        "result = [num*3 for num in a] #변수 = [실행문 for 변수 in 배열]리스트화\n",
        "print(result)"
      ],
      "metadata": {
        "colab": {
          "base_uri": "https://localhost:8080/"
        },
        "id": "0M2-Par_OQNB",
        "outputId": "0c5c71ad-0be2-4fe8-8bea-d234c1165212"
      },
      "execution_count": null,
      "outputs": [
        {
          "output_type": "stream",
          "name": "stdout",
          "text": [
            "[3, 6, 9, 12]\n"
          ]
        }
      ]
    },
    {
      "cell_type": "code",
      "source": [
        "#ㅈ짝수만 3을 곱해서 리스트에 담고 싶다\n",
        "a = [1,2,3,4]\n",
        "result = [num*3 for num in a if num % 2 == 0]\n",
        "#결과배열 = [실행문 for 변수 in 배열 if 조건]\n",
        "print(result)"
      ],
      "metadata": {
        "colab": {
          "base_uri": "https://localhost:8080/"
        },
        "id": "6pH2NPm7Ouo4",
        "outputId": "eeab72cb-4cf4-46ac-e717-8ec2c3fbb20b"
      },
      "execution_count": null,
      "outputs": [
        {
          "output_type": "stream",
          "name": "stdout",
          "text": [
            "[6, 12]\n"
          ]
        }
      ]
    },
    {
      "cell_type": "code",
      "source": [
        "#미션 전에 만든 커피 ㅈㅏ판기 리스트화해서 for으로 구현\n",
        "#커피 종류 5개(커피명, 수량, 단가)\n",
        "#사용자가 커피를 반복구매\n",
        "#관리자가 판매종료 후 통계확인\n",
        "\n",
        "#커피를 주문해 -> 돈을 받고 -> 거스름돈을 주고 -> 커피를 주고 -> 판매종료하고 -> 통계확인\n",
        "# (i가 100보다 작거나 같을때까지 반복)\n",
        "# for i in i <= 100\n",
        "# coffees = [('말차라떼',3,2800) ,('아메리카노',3,2000), ('카페모카',3,2400), ('카페라떼',3,2500), ('카푸치노',3,2200)]  #coffees 리스트 만들기\n",
        "\n",
        "coffees = { 1:{'name':'말차라떼','price':2800,\"stock\":3},\n",
        "            2:{'name':'아메리카노','price':2000,\"stock\":3},\n",
        "            3:{'name':'카페모카','price':2400,\"stock\":3},\n",
        "            4:{'name':'라페라떼','price':2500,\"stock\":3},\n",
        "            5:{'name':'카푸치노','price':2200,\"stock\":3}}\n",
        "\n",
        "\n",
        "# print(\"커피 주문을 시작합니다.\")\n",
        "# for key, value in coffees.items():\n",
        "#         print(f\"{key}. {value['name']} - {value['price']}원\")\n",
        "\n",
        "# for i in coffees.items():\n",
        "#     주문번호 = int(input(\"원하는 커피 번호\"))\n",
        "#     if 주문번호 == 1:\n",
        "#         print(f\"선택한 커피: {coffees[주문번호]['name']} - 가격: {coffees[주문번호]['price']}원\")\n",
        "#         주문수량 = int(input(\"원하는 수량\"))\n",
        "#         if 주문수량 >= 1:\n",
        "#             print(\"주문이 완료되었습니다.\")\n",
        "#             돈 = int(input(\"돈을 넣어주세요\"))\n",
        "#             if 돈 >=\n",
        "\n",
        "#주문메뉴 -> 주문번호받고 -> 돈받고 -> 커피주기\n",
        "\n",
        "\n",
        "\n",
        "# while True:\n",
        "\n",
        "for 주문번호 in coffees.items():\n",
        "    for 주문메뉴 in coffees.items():\n",
        "        print(주문메뉴[0],주문메뉴[1]['name'],\"-\",주문메뉴[1]['price'],\"원\")\n",
        "    주문번호 = int(input(\"원하는 커피 번호\"))\n",
        "    if 주문번호 == 1:\n",
        "        print(f\"선택한 커피: {coffees[주문번호]['name']} - 가격: {coffees[주문번호]['price']}원\")\n",
        "        주문수량 = int(input(\"주문수량 선택\"))\n",
        "        if 주문수량 >= 1:\n",
        "            print(\"주문이 완료되었습니다.\")\n",
        "            돈 = int(input(\"돈을 넣어주세요\"))\n",
        "            if 돈 > coffees[1][\"price\"] * 주문수량:\n",
        "                거스름돈 = 돈 - coffees[1][\"price\"] * 주문수량\n",
        "                print(f\"거스름돈은 {거스름돈}원 입니다.\")\n",
        "                print(\"커피가 준비되었습니다.\")\n",
        "            elif 돈 == coffees[1][\"price\"] * 주문수량:\n",
        "                print(\"커피가 준비되었습니다.\")\n",
        "            else:\n",
        "                print(\"돈이 부족합니다.\")\n",
        "        break"
      ],
      "metadata": {
        "colab": {
          "base_uri": "https://localhost:8080/"
        },
        "id": "1EhNmopePx_6",
        "outputId": "3f23dfb3-10a7-4fd7-fc36-5ec9911f5909"
      },
      "execution_count": null,
      "outputs": [
        {
          "output_type": "stream",
          "name": "stdout",
          "text": [
            "1 말차라떼 - 2800 원\n",
            "2 아메리카노 - 2000 원\n",
            "3 카페모카 - 2400 원\n",
            "4 라페라떼 - 2500 원\n",
            "5 카푸치노 - 2200 원\n",
            "원하는 커피 번호1\n",
            "선택한 커피: 말차라떼 - 가격: 2800원\n",
            "주문수량 선택2\n",
            "주문이 완료되었습니다.\n",
            "돈을 넣어주세요5600\n",
            "거스름돈은 0원 입니다.\n",
            "커피가 준비되었습니다.\n"
          ]
        },
        {
          "output_type": "execute_result",
          "data": {
            "text/plain": [
              "2800"
            ]
          },
          "metadata": {},
          "execution_count": 106
        }
      ]
    },
    {
      "cell_type": "code",
      "source": [
        "# 커피 종류와 가격 설정\n",
        "coffee_menu = {\n",
        "    1: {\"name\": \"아메리카노\", \"price\": 2000},\n",
        "    2: {\"name\": \"라떼\", \"price\": 2500},\n",
        "    3: {\"name\": \"카푸치노\", \"price\": 3000},\n",
        "    4: {\"name\": \"모카\", \"price\": 3500}\n",
        "}\n",
        "\n",
        "# 자판기 동작 시작\n",
        "print(\"==== 커피 자판기 ====\")\n",
        "\n",
        "# 메뉴 출력\n",
        "print(\"선택 가능한 커피 종류:\")\n",
        "for key, value in coffee_menu.items():\n",
        "    print(f\"{key}. {value['name']} - {value['price']}원\")\n",
        "\n",
        "# 사용자 입력 받기\n",
        "choice = int(input(\"원하는 커피의 번호를 선택하세요: \"))\n",
        "\n",
        "if choice in coffee_menu:\n",
        "    coffee = coffee_menu[choice]\n",
        "    print(f\"선택한 커피: {coffee['name']} - 가격: {coffee['price']}원\")\n",
        "\n",
        "    # 결제 받기\n",
        "    money = int(input(\"금액을 입력하세요: \"))\n",
        "\n",
        "    if money >= coffee['price']:\n",
        "        change = money - coffee['price']\n",
        "        print(f\"커피가 준비되었습니다! 거스름돈은 {change}원 입니다.\")\n",
        "    else:\n",
        "        print(\"금액이 부족합니다. 다시 시도하세요.\")\n",
        "else:\n",
        "    print(\"잘못된 번호입니다. 다시 선택해주세요.\")"
      ],
      "metadata": {
        "colab": {
          "base_uri": "https://localhost:8080/"
        },
        "id": "fLiVEG8RcLlK",
        "outputId": "f8def825-fcd6-4fc3-ad35-7823960c726c"
      },
      "execution_count": null,
      "outputs": [
        {
          "output_type": "stream",
          "name": "stdout",
          "text": [
            "==== 커피 자판기 ====\n",
            "선택 가능한 커피 종류:\n",
            "1. 아메리카노 - 2000원\n",
            "2. 라떼 - 2500원\n",
            "3. 카푸치노 - 3000원\n",
            "4. 모카 - 3500원\n",
            "원하는 커피의 번호를 선택하세요: 1\n",
            "선택한 커피: 아메리카노 - 가격: 2000원\n",
            "금액을 입력하세요: 2000\n",
            "커피가 준비되었습니다! 거스름돈은 0원 입니다.\n"
          ]
        }
      ]
    },
    {
      "cell_type": "markdown",
      "source": [],
      "metadata": {
        "id": "ssZraaD_cKSz"
      }
    },
    {
      "cell_type": "code",
      "source": [
        "from re import I\n",
        "\n",
        "아메리카노 = 100\n",
        "카라멜마끼아또 = 100\n",
        "말차라떼 = 100\n",
        "판매금액 = 0\n",
        "판매총액 = 0\n",
        "관리자 = \"\"\n",
        "구매자 = \"\"\n",
        "\n",
        "while True:\n",
        "    pick = input(\"\\n 구매하시려면 [#]을 눌러주시고, 취소하시려면 [*]을 눌러주세요 : \")\n",
        "    if pick == \"09181324\":\n",
        "        판매총액 = 판매총액 + 판매금액\n",
        "        print(\"판매금액 : \", 판매금액)\n",
        "        print(\"판매총액 : \", 판매총액)\n",
        "        gostop = input(\"\\n 판매를 중단하시려면 1번, 계속 진행하시려면 2번을 눌러주세요 : \")\n",
        "        if gostop == \"1\":\n",
        "            break\n",
        "        elif gostop == \"2\":\n",
        "            판매금액 = 0\n",
        "            continue\n",
        "    elif pick == \"#\":\n",
        "        while True:\n",
        "                print(\"================================================================\")\n",
        "                print(\"     [1]         |      [2]       |         [3]          | [4]\")\n",
        "                print(\"아메리카노 \", 아메리카노,\"개 |\", \"말차라떼 \",말차라떼,\"개 |\",\"카라멜마끼아또 \",카라멜마끼아또,\"개 |\",\"취소\")\n",
        "                print(\"   [2500원]      |    [2800원]    |       [3000원]       |\")\n",
        "                print(\"================================================================\")\n",
        "                자판기번호 = int(input(\"\\n 커피 번호를 선택해주세요 : \"))\n",
        "\n",
        "                if 자판기번호 == 1:\n",
        "                    if 아메리카노 > 0:\n",
        "                        print(\"\\n 아메리카노를 선택하셨습니다.\")\n",
        "                        moca = int(input(\"\\n 현금을 넣으시려면 1번, 카드를 넣으시려면 2번을 입력해주세요. : \"))\n",
        "                        if moca == 1:\n",
        "                            money = int(input(\"\\n 현금 투입구에 돈을 넣어주세요.\"))\n",
        "                            if money == 2500:\n",
        "                                print(\"\\n 아메리카노를 줍니다\")\n",
        "                                아메리카노 = 아메리카노 -1\n",
        "                                판매금액 = 판매금액 + money\n",
        "                            elif money > 2500:\n",
        "                                print(\"\\n 거스름돈 %d를 주고 아메리카노를 줍니다\" %(money - 2500))\n",
        "                                아메리카노 = 아메리카노 -1\n",
        "                                거스름돈 = money - 2500\n",
        "                                판매금액 = 판매금액 + (money - 거스름돈)\n",
        "                            else:\n",
        "                                print(\"\\n 돈을 다시 돌려주고 커피를 주지 않습니다.\")\n",
        "                        elif moca == 2:\n",
        "                            card = int(input(\"\\n 카드 투입구에 카드를 넣으시려면 1번을 눌러주세요. : \"))\n",
        "                            if card == 1:\n",
        "                                print(\"\\n 카드를 넣으셨습니다.\")\n",
        "                                print(\"\\n 아메리카노를 줍니다\")\n",
        "                                아메리카노 = 아메리카노 -1\n",
        "                                판매금액 = 판매금액 + 2500\n",
        "                            else:\n",
        "                                print(\"\\n 카드를 다시 돌려주고 커피를 주지 않습니다.\")\n",
        "                    elif 아메리카노 == 0:\n",
        "                        print(\"\\n 아메리카노가 다 떨어졌습니다.\")\n",
        "                if 자판기번호 == 2:\n",
        "                    if 말차라떼 > 0:\n",
        "                        print(\"\\n 말차라떼를 선택하셨습니다.\")\n",
        "                        moca = int(input(\"\\n 현금을 넣으시려면 1번, 카드를 넣으시려면 2번을 눌러주세요. : \"))\n",
        "                        if moca == 1:\n",
        "                            money = int(input(\"\\n 현금 투입구에 돈을 넣어주세요.\"))\n",
        "                            if money == 2800:\n",
        "                                print(\"\\n 말차라떼를 줍니다\")\n",
        "                                말차라떼 = 말차라떼 -1\n",
        "                                판매금액 = 판매금액 + money\n",
        "                            elif money > 2800:\n",
        "                                print(\"\\n 거스름돈 %d를 주고 말차라떼를 줍니다\" %(money - 2800))\n",
        "                                말차라떼 = 말차라떼 -1\n",
        "                                거스름돈 = money - 2800\n",
        "                                판매금액 = 판매금액 + (money - 거스름돈)\n",
        "                            else:\n",
        "                                print(\"\\n 돈을 다시 돌려주고 커피를 주지 않습니다.\")\n",
        "                        elif moca == 2:\n",
        "                            card = int(input(\"\\n 카드 투입구에 카드를 넣으시려면 1번을 눌러주세요. : \"))\n",
        "                            if card == 1:\n",
        "                                print(\"\\n 카드를 넣으셨습니다.\")\n",
        "                                print(\"\\n 말차라떼를 줍니다\")\n",
        "                                말차라떼 = 말차라떼 -1\n",
        "                                판매금액 = 판매금액 + 2800\n",
        "                            else:\n",
        "                                print(\"\\n 카드를 다시 돌려주고 커피를 주지 않습니다.\")\n",
        "                    elif 말차라떼 == 0:\n",
        "                        print(\"\\n 말차라떼가 다 떨어졌습니다.\")\n",
        "                if 자판기번호 == 3:\n",
        "                    if 카라멜마끼아또 > 0:\n",
        "                        print(\"\\n 카라멜마끼아또를 선택하셨습니다.\")\n",
        "                        moca = int(input(\"\\n 현금을 넣으시려면 1번, 카드를 넣으시려면 2번을 눌러주세요. : \"))\n",
        "                        if moca == 1:\n",
        "                            money = int(input(\"\\n 현금 투입구에 돈을 넣어주세요.\"))\n",
        "                            if money == 3000:\n",
        "                                print(\"\\n 카라멜마끼아또를 줍니다\")\n",
        "                                카라멜마끼아또 = 카라멜마끼아또 -1\n",
        "                                판매금액 = 판매금액 + money\n",
        "                            elif money > 3000:\n",
        "                                print(\"\\n 거스름돈 %d를 주고 카라멜마끼아또를 줍니다\" %(money - 3000))\n",
        "                                카라멜마끼아또 = 카라멜마끼아또 -1\n",
        "                                거스름돈 = money - 3000\n",
        "                                판매금액 = 판매금액 + (money - 거스름돈)\n",
        "                            else:\n",
        "                                print(\"\\n 돈을 다시 돌려주고 커피를 주지 않습니다.\")\n",
        "                        elif moca == 2:\n",
        "                            card = int(input(\"\\n 카드 투입구에 카드를 넣으시려면 1번을 눌러주세요. : \"))\n",
        "                            if card == 1:\n",
        "                                print(\"\\n 카드를 넣으셨습니다.\")\n",
        "                                print(\"\\n 카라멜마끼아또를 줍니다\")\n",
        "                                카라멜마끼아또 = 카라멜마끼아또 -1\n",
        "                                판매금액 = 판매금액 + 3000\n",
        "                            else:\n",
        "                                print(\"\\n 카드를 다시 돌려주고 커피를 주지 않습니다.\")\n",
        "                    elif 카라멜마끼아또 == 0:\n",
        "                        print(\"\\n 카라멜마끼아또가 다 떨어졌습니다.\")\n",
        "                elif 자판기번호 > 4:\n",
        "                    print(\"\\n 다시 골라주세요.\")\n",
        "                elif 자판기번호 == 4:\n",
        "                    print(\"\\n 취소되었습니다.\")\n",
        "                    break\n",
        "    elif pick == \"*\":\n",
        "        print(\"\\n 구매가 취소되었습니다.\")\n",
        "    else:\n",
        "        print(\"\\n 다시 골라주세요.\")"
      ],
      "metadata": {
        "id": "oSo4KHmJ4Crs"
      },
      "execution_count": null,
      "outputs": []
    },
    {
      "cell_type": "code",
      "source": [
        "coffees = { 1:{'name':'말차라떼','price':2800,\"stock\":3},\n",
        "            2:{'name':'아메리카노','price':2000,\"stock\":3},\n",
        "            3:{'name':'카페모카','price':2400,\"stock\":3},\n",
        "            4:{'name':'라페라떼','price':2500,\"stock\":3},\n",
        "            5:{'name':'카푸치노','price':2200,\"stock\":3}}\n",
        "\n",
        "# print(\"keys() : \",coffees.keys()) - keys() :  dict_keys([1, 2, 3, 4, 5])\n",
        "# print(\"items() : \",coffees.items()) - items() :  dict_items([(1, {'name': '말차라떼', 'price': 2800, 'stock': 3}), (2, {'name': '아메리카노', 'price': 2000, 'stock': 3}), (3, {'name': '카페모카', 'price': 2400, 'stock': 3}), (4, {'name': '라페라떼', 'price': 2500, 'stock': 3}), (5, {'name': '카푸치노', 'price': 2200, 'stock': 3})])\n",
        "\n",
        "# for i in coffees.items():\n",
        "#     print(\"i : \",i)         #i :  (1, {'name': '말차라떼', 'price': 2800, 'stock': 3})\n",
        "#     for j in i:\n",
        "#         print(\"j : \",j)     #j :  1\n",
        "                              #j :  {'name': '말차라떼', 'price': 2800, 'stock': 3}\n",
        "\n"
      ],
      "metadata": {
        "id": "S3HQb39K5B7r",
        "outputId": "c3ea24d6-82fd-47ba-f8fa-fcf8a1234b16",
        "colab": {
          "base_uri": "https://localhost:8080/"
        }
      },
      "execution_count": 13,
      "outputs": [
        {
          "output_type": "stream",
          "name": "stdout",
          "text": [
            "i :  (1, {'name': '말차라떼', 'price': 2800, 'stock': 3})\n",
            "j :  1\n",
            "j :  {'name': '말차라떼', 'price': 2800, 'stock': 3}\n",
            "i :  (2, {'name': '아메리카노', 'price': 2000, 'stock': 3})\n",
            "j :  2\n",
            "j :  {'name': '아메리카노', 'price': 2000, 'stock': 3}\n",
            "i :  (3, {'name': '카페모카', 'price': 2400, 'stock': 3})\n",
            "j :  3\n",
            "j :  {'name': '카페모카', 'price': 2400, 'stock': 3}\n",
            "i :  (4, {'name': '라페라떼', 'price': 2500, 'stock': 3})\n",
            "j :  4\n",
            "j :  {'name': '라페라떼', 'price': 2500, 'stock': 3}\n",
            "i :  (5, {'name': '카푸치노', 'price': 2200, 'stock': 3})\n",
            "j :  5\n",
            "j :  {'name': '카푸치노', 'price': 2200, 'stock': 3}\n"
          ]
        }
      ]
    }
  ]
}