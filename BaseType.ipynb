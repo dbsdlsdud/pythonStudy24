{
  "nbformat": 4,
  "nbformat_minor": 0,
  "metadata": {
    "colab": {
      "provenance": [],
      "authorship_tag": "ABX9TyM4AD0ieAwgmBrPUHEu5Bo8",
      "include_colab_link": true
    },
    "kernelspec": {
      "name": "python3",
      "display_name": "Python 3"
    },
    "language_info": {
      "name": "python"
    }
  },
  "cells": [
    {
      "cell_type": "markdown",
      "metadata": {
        "id": "view-in-github",
        "colab_type": "text"
      },
      "source": [
        "<a href=\"https://colab.research.google.com/github/dbsdlsdud/pythonStudy24/blob/master/BaseType.ipynb\" target=\"_parent\"><img src=\"https://colab.research.google.com/assets/colab-badge.svg\" alt=\"Open In Colab\"/></a>"
      ]
    },
    {
      "cell_type": "markdown",
      "source": [
        "파이썬 프로그래밍 기초, 자료형\n",
        "\n",
        "1. 숫자형\n",
        "2. 문자열\n",
        "3. 리스트\n",
        "4. 튜플\n",
        "5. 딕셔너리\n",
        "6. 집합\n",
        "7. 불"
      ],
      "metadata": {
        "id": "hPcLl5kBVCBe"
      }
    },
    {
      "cell_type": "code",
      "execution_count": 2,
      "metadata": {
        "colab": {
          "base_uri": "https://localhost:8080/"
        },
        "id": "Uw5QyOL9TNSq",
        "outputId": "3c348b29-bdc3-4597-db40-0f6a2eda6df2"
      },
      "outputs": [
        {
          "output_type": "stream",
          "name": "stdout",
          "text": [
            "127\n",
            "2303\n"
          ]
        }
      ],
      "source": [
        "#숫자형은 정수형, 실수형, 진수형이 있다.\n",
        "\n",
        "#정수형(integer) :양의 정수와 음의 정수, 숫자 0을 변수에 대입\n",
        "\n",
        "a = 123 #양의 정수\n",
        "b = -123 #음의 정수\n",
        "c = 0 #숫자 0\n",
        "\n",
        "#실수형(floating-point) : 소수점이 포함된 숫자\n",
        "\n",
        "d = 1.2\n",
        "e = -3.45\n",
        "\n",
        "#지수 표현방법: 많은 수치를 짧게 표현\n",
        "\n",
        "f = 4.24E10 #4.24 * 10^10\n",
        "g = 4.24e-10 #4.24 * 10^-10\n",
        "\n",
        "#진수표현방법:\n",
        "#8진수(옥타:octal) -> 숫자 0에 알파벳o(대소문자 가능)\n",
        "\n",
        "h = 0o177 #177 8진수\n",
        "print(h) #127 10진수\n",
        "\n",
        "#16진수(핵사:haxadecimal) -> 숫자 0에 알파벳x\n",
        "\n",
        "i = 0x8ff #8ff 16진수\n",
        "print(i) #2303 10진수\n",
        "\n"
      ]
    },
    {
      "cell_type": "markdown",
      "source": [
        "숫자형을 활용하기 위한 연산자\n",
        "\n",
        "1.사칙연산 : +더하기, -빼기, *곱하기, /나누기\n",
        "2.우선순위 : 괄호 -> *, / -> 앞쪽\n"
      ],
      "metadata": {
        "id": "TIaI0J3RdIRU"
      }
    },
    {
      "cell_type": "code",
      "source": [
        "a = 3\n",
        "b = 4\n",
        "a + b"
      ],
      "metadata": {
        "colab": {
          "base_uri": "https://localhost:8080/"
        },
        "id": "qU3nlIxPd0ME",
        "outputId": "87275e28-94da-472b-ba29-5df30bd9dd22"
      },
      "execution_count": 3,
      "outputs": [
        {
          "output_type": "execute_result",
          "data": {
            "text/plain": [
              "7"
            ]
          },
          "metadata": {},
          "execution_count": 3
        }
      ]
    },
    {
      "cell_type": "code",
      "source": [
        "a - b"
      ],
      "metadata": {
        "colab": {
          "base_uri": "https://localhost:8080/"
        },
        "id": "kMWFw2pnd_jE",
        "outputId": "1fa76e4b-b4fb-44b1-a3bc-d15495487f1f"
      },
      "execution_count": 4,
      "outputs": [
        {
          "output_type": "execute_result",
          "data": {
            "text/plain": [
              "-1"
            ]
          },
          "metadata": {},
          "execution_count": 4
        }
      ]
    },
    {
      "cell_type": "code",
      "source": [
        "a * b"
      ],
      "metadata": {
        "colab": {
          "base_uri": "https://localhost:8080/"
        },
        "id": "8EmdSzqdeR-j",
        "outputId": "eb9a3c9f-bbb5-462a-d38e-239140ada582"
      },
      "execution_count": 5,
      "outputs": [
        {
          "output_type": "execute_result",
          "data": {
            "text/plain": [
              "12"
            ]
          },
          "metadata": {},
          "execution_count": 5
        }
      ]
    },
    {
      "cell_type": "code",
      "source": [
        "a / b"
      ],
      "metadata": {
        "colab": {
          "base_uri": "https://localhost:8080/"
        },
        "id": "EM4tbrEyeUq0",
        "outputId": "873d8ae4-37b7-4f74-d0e9-8358d4677e74"
      },
      "execution_count": 6,
      "outputs": [
        {
          "output_type": "execute_result",
          "data": {
            "text/plain": [
              "0.75"
            ]
          },
          "metadata": {},
          "execution_count": 6
        }
      ]
    },
    {
      "cell_type": "code",
      "source": [
        "#제곱 처리하는 방법\n",
        "a ** b #3^4"
      ],
      "metadata": {
        "colab": {
          "base_uri": "https://localhost:8080/"
        },
        "id": "XpwSI1jDeXMz",
        "outputId": "7ecc93cd-e52a-4d0d-cdc1-bef20f5ee686"
      },
      "execution_count": 7,
      "outputs": [
        {
          "output_type": "execute_result",
          "data": {
            "text/plain": [
              "81"
            ]
          },
          "metadata": {},
          "execution_count": 7
        }
      ]
    },
    {
      "cell_type": "code",
      "source": [
        "#나머지 처리하는 방법(%)\n",
        "7 % 3"
      ],
      "metadata": {
        "colab": {
          "base_uri": "https://localhost:8080/"
        },
        "id": "g1FCy0thenSN",
        "outputId": "d9681b38-e70e-441b-b34a-956e754bf35f"
      },
      "execution_count": 8,
      "outputs": [
        {
          "output_type": "execute_result",
          "data": {
            "text/plain": [
              "1"
            ]
          },
          "metadata": {},
          "execution_count": 8
        }
      ]
    },
    {
      "cell_type": "code",
      "source": [
        "#나눗셈 후 몫을 리턴하는 방법(//)\n",
        "7 // 4"
      ],
      "metadata": {
        "colab": {
          "base_uri": "https://localhost:8080/"
        },
        "id": "lMAuV0fKf0Hk",
        "outputId": "580a2130-3f06-4fe0-afab-89852b6e9aac"
      },
      "execution_count": 10,
      "outputs": [
        {
          "output_type": "execute_result",
          "data": {
            "text/plain": [
              "1"
            ]
          },
          "metadata": {},
          "execution_count": 10
        }
      ]
    },
    {
      "cell_type": "code",
      "source": [
        "# 복합 연산자 +=, -=, *=, /=, //=, %=, **=\n",
        "a = 1\n",
        "a = a + 1\n",
        "print(a)\n",
        "\n",
        "a += 1 # a = a+1\n",
        "print(a)"
      ],
      "metadata": {
        "colab": {
          "base_uri": "https://localhost:8080/"
        },
        "id": "b19Sodb9gR_L",
        "outputId": "a0ceccdd-da6b-4025-e76a-d679c0781b64"
      },
      "execution_count": 11,
      "outputs": [
        {
          "output_type": "stream",
          "name": "stdout",
          "text": [
            "2\n",
            "3\n"
          ]
        }
      ]
    },
    {
      "cell_type": "code",
      "source": [
        "# 문자열 자료형(string):연속된 문자들의 나열 \"\"큰따옴표\n",
        "\n",
        "#큰따옴표\n",
        "\"Hello World\"\n",
        "\n",
        "#작은따옴표\n",
        "'Hello World'\n",
        "\n",
        "#큰따옴표 3개 연속으로 써서 양쪽 둘러싸기\n",
        "\"\"\"Hello World\"\"\"\n",
        "\n",
        "#작은따옴표 3개 연속으로 써서 양쪽 둘러싸기\n",
        "'''Hello World'''\n",
        "\n",
        "food = \"Python's favorite food is perl\"\n",
        "food\n"
      ],
      "metadata": {
        "colab": {
          "base_uri": "https://localhost:8080/",
          "height": 35
        },
        "id": "3U22Ba_9hGTt",
        "outputId": "549c5d68-6b34-4958-8e3b-24f9b5755a81"
      },
      "execution_count": 14,
      "outputs": [
        {
          "output_type": "execute_result",
          "data": {
            "text/plain": [
              "\"Python's favorite food is perl\""
            ],
            "application/vnd.google.colaboratory.intrinsic+json": {
              "type": "string"
            }
          },
          "metadata": {},
          "execution_count": 14
        }
      ]
    },
    {
      "cell_type": "code",
      "source": [
        "#만약에 문자열 출력에 큰따옴표를 보여주고 싶을때\n",
        "\n",
        "say = '\"Python is very easy.\" he says.'\n",
        "say"
      ],
      "metadata": {
        "colab": {
          "base_uri": "https://localhost:8080/",
          "height": 35
        },
        "id": "HnlI0h2njBtz",
        "outputId": "8dc6151f-6938-4203-bd42-b11645fdf379"
      },
      "execution_count": 15,
      "outputs": [
        {
          "output_type": "execute_result",
          "data": {
            "text/plain": [
              "'\"Python is very easy.\" he says.'"
            ],
            "application/vnd.google.colaboratory.intrinsic+json": {
              "type": "string"
            }
          },
          "metadata": {},
          "execution_count": 15
        }
      ]
    },
    {
      "cell_type": "code",
      "source": [
        "#이스케이프 문자 활용하기 \\n, \\t, \\r, \\\\ 등 (\\ 역슬래시 활용)\n",
        "\n",
        "food = 'Python\\'s favorite food is perl'\n",
        "food\n"
      ],
      "metadata": {
        "colab": {
          "base_uri": "https://localhost:8080/",
          "height": 35
        },
        "id": "YI_xaZU5jemr",
        "outputId": "3473191f-6b4d-4e64-a13e-389c1c7834c3"
      },
      "execution_count": 18,
      "outputs": [
        {
          "output_type": "execute_result",
          "data": {
            "text/plain": [
              "\"Python's favorite food is perl\""
            ],
            "application/vnd.google.colaboratory.intrinsic+json": {
              "type": "string"
            }
          },
          "metadata": {},
          "execution_count": 18
        }
      ]
    },
    {
      "cell_type": "code",
      "source": [
        "say = \"\\\" Python is very easty.\\\" he says.\"\n",
        "say"
      ],
      "metadata": {
        "colab": {
          "base_uri": "https://localhost:8080/",
          "height": 35
        },
        "id": "4Z1p_a0Hm6Pj",
        "outputId": "0f8a5777-961d-4d17-8e5d-a1c8b6dd2d63"
      },
      "execution_count": 19,
      "outputs": [
        {
          "output_type": "execute_result",
          "data": {
            "text/plain": [
              "'\" Python is very easty.\" he says.'"
            ],
            "application/vnd.google.colaboratory.intrinsic+json": {
              "type": "string"
            }
          },
          "metadata": {},
          "execution_count": 19
        }
      ]
    },
    {
      "cell_type": "code",
      "source": [
        "#여러줄로 출력 \\n 엔터 효과\n",
        "multiline = \"Life is too short\\nYou need python\"\n",
        "print(multiline)"
      ],
      "metadata": {
        "colab": {
          "base_uri": "https://localhost:8080/"
        },
        "id": "9mNvYUvcnFjd",
        "outputId": "184ab236-a30c-4f34-eaf3-79daf24d3952"
      },
      "execution_count": 21,
      "outputs": [
        {
          "output_type": "stream",
          "name": "stdout",
          "text": [
            "Life is too short\n",
            "You need python\n"
          ]
        }
      ]
    },
    {
      "cell_type": "code",
      "source": [
        "#여러줄로 출력이 가능한 \"\"\"\n",
        "multiline='''\n",
        "Life is too short\n",
        "You need python\n",
        "'''\n",
        "print(multiline)"
      ],
      "metadata": {
        "colab": {
          "base_uri": "https://localhost:8080/"
        },
        "id": "-Ad0HLfKnkiL",
        "outputId": "3a5ec21e-b5eb-46f2-90ed-e72911575753"
      },
      "execution_count": 22,
      "outputs": [
        {
          "output_type": "stream",
          "name": "stdout",
          "text": [
            "\n",
            "Life is too short\n",
            "You need python\n",
            "\n"
          ]
        }
      ]
    },
    {
      "cell_type": "code",
      "source": [
        "multiline=\"\"\"\n",
        "Life is too short\n",
        "You need python\n",
        "\"\"\"\n",
        "print(multiline)"
      ],
      "metadata": {
        "colab": {
          "base_uri": "https://localhost:8080/"
        },
        "id": "4mm36LAPo8wb",
        "outputId": "4137d20f-ed0f-4543-b7b3-287ad09435f3"
      },
      "execution_count": 23,
      "outputs": [
        {
          "output_type": "stream",
          "name": "stdout",
          "text": [
            "\n",
            "Life is too short\n",
            "You need python\n",
            "\n"
          ]
        }
      ]
    },
    {
      "cell_type": "markdown",
      "source": [
        "# 이스케이프 코드 종류\n",
        "\n",
        "* \\n: 문자열 안에서 줄 바꿈\n",
        "* \\t: 탭 간격으로  점프\n",
        "* \\\\: \\를 출력한다\n",
        "* \\': '를 출력한다\n",
        "* \\\" :\"를 출력한다\n",
        "* \\r: 캐리지 리턴(과거의 타자기 효과:커서를 현재 줄 맨 앞으로)\n",
        "* \\f :폼피드 (줄바꿈 문자, 커서를 현재 줄의 다음 줄로 이동)\n",
        "* \\a :벨소리(출력할때 삑소리가 남)\n",
        "* \\b:백스페이스\n",
        "* \\000 : 널 문자"
      ],
      "metadata": {
        "id": "cZZY7VnKpS2L"
      }
    },
    {
      "cell_type": "code",
      "source": [
        "# 문자열 연산자(문자열을 더하거나 곱할 수 있다.)\n",
        "\n",
        "head =\"python\"\n",
        "tail =\" is fun!!!\"\n",
        "head + tail\n"
      ],
      "metadata": {
        "colab": {
          "base_uri": "https://localhost:8080/",
          "height": 35
        },
        "id": "l5NPU1y3pLeb",
        "outputId": "83a85573-35fd-4ec0-b2d9-3c0b9006f031"
      },
      "execution_count": 25,
      "outputs": [
        {
          "output_type": "execute_result",
          "data": {
            "text/plain": [
              "'python is fun!!!'"
            ],
            "application/vnd.google.colaboratory.intrinsic+json": {
              "type": "string"
            }
          },
          "metadata": {},
          "execution_count": 25
        }
      ]
    },
    {
      "cell_type": "code",
      "source": [
        "body = \"python \"\n",
        "body * 5"
      ],
      "metadata": {
        "colab": {
          "base_uri": "https://localhost:8080/",
          "height": 35
        },
        "id": "MxnO1Axzrb6q",
        "outputId": "43cb7cf8-74cd-4ccb-d7c0-74b5161766d9"
      },
      "execution_count": 27,
      "outputs": [
        {
          "output_type": "execute_result",
          "data": {
            "text/plain": [
              "'python python python python python '"
            ],
            "application/vnd.google.colaboratory.intrinsic+json": {
              "type": "string"
            }
          },
          "metadata": {},
          "execution_count": 27
        }
      ]
    },
    {
      "cell_type": "code",
      "source": [
        "print(\"=\" *50)\n",
        "print(\"Wecome to Python World\")\n",
        "print(\"=\" * 50)"
      ],
      "metadata": {
        "colab": {
          "base_uri": "https://localhost:8080/"
        },
        "id": "Fi2et63Trt9K",
        "outputId": "5c3ab0fa-b191-40b3-9bfe-10bdb7971383"
      },
      "execution_count": 28,
      "outputs": [
        {
          "output_type": "stream",
          "name": "stdout",
          "text": [
            "==================================================\n",
            "Wecome to Python World\n",
            "==================================================\n"
          ]
        }
      ]
    },
    {
      "cell_type": "code",
      "source": [
        "#문자열의 길이를 구함\n",
        "a = \"Life is too short\"\n",
        "len(a)"
      ],
      "metadata": {
        "colab": {
          "base_uri": "https://localhost:8080/"
        },
        "id": "faFEP4SFsJDy",
        "outputId": "8617018f-c240-4508-d616-362589b2dee0"
      },
      "execution_count": 29,
      "outputs": [
        {
          "output_type": "execute_result",
          "data": {
            "text/plain": [
              "17"
            ]
          },
          "metadata": {},
          "execution_count": 29
        }
      ]
    },
    {
      "cell_type": "code",
      "source": [
        "#문자열 인덱싱,슬라이싱\n",
        "#문자열은 문자를 배열로 만들어 놈(0번 인덱스부터 적용됨)\n",
        "a = \"Life is too short. You need Python\"\n",
        "#    0               16               33\n",
        "#                                -5   -1\n",
        "a[16]"
      ],
      "metadata": {
        "colab": {
          "base_uri": "https://localhost:8080/",
          "height": 35
        },
        "id": "-tXlxPT8s-5T",
        "outputId": "1c60cda0-a9d0-4e2a-ed6b-2706bcc50147"
      },
      "execution_count": 30,
      "outputs": [
        {
          "output_type": "execute_result",
          "data": {
            "text/plain": [
              "'t'"
            ],
            "application/vnd.google.colaboratory.intrinsic+json": {
              "type": "string"
            }
          },
          "metadata": {},
          "execution_count": 30
        }
      ]
    },
    {
      "cell_type": "code",
      "source": [
        "a[-1]#문자열을 뒤에서부터 읽기 위해서 -기호를 붙인다"
      ],
      "metadata": {
        "colab": {
          "base_uri": "https://localhost:8080/",
          "height": 35
        },
        "id": "9NRto6EEtveS",
        "outputId": "6a3e556a-ac08-4f98-aa0f-1808a9e93665"
      },
      "execution_count": 31,
      "outputs": [
        {
          "output_type": "execute_result",
          "data": {
            "text/plain": [
              "'n'"
            ],
            "application/vnd.google.colaboratory.intrinsic+json": {
              "type": "string"
            }
          },
          "metadata": {},
          "execution_count": 31
        }
      ]
    },
    {
      "cell_type": "code",
      "source": [
        "a[-5]"
      ],
      "metadata": {
        "colab": {
          "base_uri": "https://localhost:8080/",
          "height": 35
        },
        "id": "kOvbwCPxuH-S",
        "outputId": "8b3ebc80-6bbb-427f-ba2f-a7e9d64036d1"
      },
      "execution_count": 35,
      "outputs": [
        {
          "output_type": "execute_result",
          "data": {
            "text/plain": [
              "'y'"
            ],
            "application/vnd.google.colaboratory.intrinsic+json": {
              "type": "string"
            }
          },
          "metadata": {},
          "execution_count": 35
        }
      ]
    },
    {
      "cell_type": "code",
      "source": [
        "#문자열 추출하기\n",
        "b = a[0]+a[1]+a[2]+a[3]\n",
        "b"
      ],
      "metadata": {
        "colab": {
          "base_uri": "https://localhost:8080/",
          "height": 35
        },
        "id": "5cssTLqGudnz",
        "outputId": "2a302ff9-e8ca-4f58-dab7-6d3cc4f5b211"
      },
      "execution_count": 36,
      "outputs": [
        {
          "output_type": "execute_result",
          "data": {
            "text/plain": [
              "'Life'"
            ],
            "application/vnd.google.colaboratory.intrinsic+json": {
              "type": "string"
            }
          },
          "metadata": {},
          "execution_count": 36
        }
      ]
    },
    {
      "cell_type": "code",
      "source": [
        "#슬라이싱 기법\n",
        "a[0:4] #0 <= a < 4"
      ],
      "metadata": {
        "colab": {
          "base_uri": "https://localhost:8080/",
          "height": 35
        },
        "id": "RNdytBYHuwCD",
        "outputId": "4b535e6c-94c1-4f31-a57b-16850d3b02d6"
      },
      "execution_count": 37,
      "outputs": [
        {
          "output_type": "execute_result",
          "data": {
            "text/plain": [
              "'Life'"
            ],
            "application/vnd.google.colaboratory.intrinsic+json": {
              "type": "string"
            }
          },
          "metadata": {},
          "execution_count": 37
        }
      ]
    },
    {
      "cell_type": "code",
      "source": [
        "a[12:17]"
      ],
      "metadata": {
        "colab": {
          "base_uri": "https://localhost:8080/",
          "height": 35
        },
        "id": "xoYfA8JrvQGi",
        "outputId": "a702de52-d6c4-4919-e542-372266701574"
      },
      "execution_count": 38,
      "outputs": [
        {
          "output_type": "execute_result",
          "data": {
            "text/plain": [
              "'short'"
            ],
            "application/vnd.google.colaboratory.intrinsic+json": {
              "type": "string"
            }
          },
          "metadata": {},
          "execution_count": 38
        }
      ]
    },
    {
      "cell_type": "code",
      "source": [
        "a[19:]#19인덱스부터 끝까지"
      ],
      "metadata": {
        "colab": {
          "base_uri": "https://localhost:8080/",
          "height": 35
        },
        "id": "d5gNF6G_vXwq",
        "outputId": "9c6f2724-5caf-4333-bba1-8c527f12b8b8"
      },
      "execution_count": 41,
      "outputs": [
        {
          "output_type": "execute_result",
          "data": {
            "text/plain": [
              "'You need Python'"
            ],
            "application/vnd.google.colaboratory.intrinsic+json": {
              "type": "string"
            }
          },
          "metadata": {},
          "execution_count": 41
        }
      ]
    },
    {
      "cell_type": "code",
      "source": [
        "a[:19] #처음부터 19인덱스까지"
      ],
      "metadata": {
        "colab": {
          "base_uri": "https://localhost:8080/",
          "height": 35
        },
        "id": "oYLH8t9GvoNi",
        "outputId": "7f289583-ee10-4333-d02b-6c328654ddbc"
      },
      "execution_count": 42,
      "outputs": [
        {
          "output_type": "execute_result",
          "data": {
            "text/plain": [
              "'Life is too short. '"
            ],
            "application/vnd.google.colaboratory.intrinsic+json": {
              "type": "string"
            }
          },
          "metadata": {},
          "execution_count": 42
        }
      ]
    },
    {
      "cell_type": "code",
      "source": [
        "a[:]#처음부터 끝까지"
      ],
      "metadata": {
        "colab": {
          "base_uri": "https://localhost:8080/",
          "height": 35
        },
        "id": "Uk09dxZGvuMS",
        "outputId": "c2470bd8-8fc3-40d0-d112-82d4b4be084c"
      },
      "execution_count": 43,
      "outputs": [
        {
          "output_type": "execute_result",
          "data": {
            "text/plain": [
              "'Life is too short. You need Python'"
            ],
            "application/vnd.google.colaboratory.intrinsic+json": {
              "type": "string"
            }
          },
          "metadata": {},
          "execution_count": 43
        }
      ]
    },
    {
      "cell_type": "code",
      "source": [
        "#슬라이싱 활용해보기\n",
        "\n",
        "a = \"20010331Rainy\"\n",
        "date = a[:8]\n",
        "weather = a[8:]\n",
        "date"
      ],
      "metadata": {
        "colab": {
          "base_uri": "https://localhost:8080/",
          "height": 35
        },
        "id": "ejSonAtdv79i",
        "outputId": "53c7da10-7e1e-45f4-cfd0-9909b75fa57f"
      },
      "execution_count": 46,
      "outputs": [
        {
          "output_type": "execute_result",
          "data": {
            "text/plain": [
              "'20010331'"
            ],
            "application/vnd.google.colaboratory.intrinsic+json": {
              "type": "string"
            }
          },
          "metadata": {},
          "execution_count": 46
        }
      ]
    },
    {
      "cell_type": "code",
      "source": [
        "weather"
      ],
      "metadata": {
        "colab": {
          "base_uri": "https://localhost:8080/",
          "height": 35
        },
        "id": "12m19F8Vwwqi",
        "outputId": "911cb32b-31e7-4faf-c8e8-062d18404b1a"
      },
      "execution_count": 47,
      "outputs": [
        {
          "output_type": "execute_result",
          "data": {
            "text/plain": [
              "'Rainy'"
            ],
            "application/vnd.google.colaboratory.intrinsic+json": {
              "type": "string"
            }
          },
          "metadata": {},
          "execution_count": 47
        }
      ]
    },
    {
      "cell_type": "code",
      "source": [
        "a = \"20010331Rainy\"\n",
        "year = a[:4]\n",
        "day = a[4:8]\n",
        "weather = a[8:]\n",
        "year\n",
        "type(year)"
      ],
      "metadata": {
        "colab": {
          "base_uri": "https://localhost:8080/"
        },
        "id": "w7LEZez3w5dS",
        "outputId": "c3f48f9f-3237-4158-9ec3-c53b164d8c13"
      },
      "execution_count": 49,
      "outputs": [
        {
          "output_type": "execute_result",
          "data": {
            "text/plain": [
              "str"
            ]
          },
          "metadata": {},
          "execution_count": 49
        }
      ]
    },
    {
      "cell_type": "code",
      "source": [
        "#만약에 pithon 문자열을 만들었는데 python으로 교체가 될까\n",
        "a = \"pithon\"\n",
        "a[1] ='y'"
      ],
      "metadata": {
        "colab": {
          "base_uri": "https://localhost:8080/",
          "height": 184
        },
        "id": "fzkG76RYxm7K",
        "outputId": "fa7464c7-5856-4cea-f1f2-38a5de9f4a7f"
      },
      "execution_count": 52,
      "outputs": [
        {
          "output_type": "error",
          "ename": "TypeError",
          "evalue": "'str' object does not support item assignment",
          "traceback": [
            "\u001b[0;31m---------------------------------------------------------------------------\u001b[0m",
            "\u001b[0;31mTypeError\u001b[0m                                 Traceback (most recent call last)",
            "\u001b[0;32m<ipython-input-52-0c6d68dc15aa>\u001b[0m in \u001b[0;36m<cell line: 3>\u001b[0;34m()\u001b[0m\n\u001b[1;32m      1\u001b[0m \u001b[0;31m#만약에 pithon 문자열을 만들었는데 python으로 교체가 될까\u001b[0m\u001b[0;34m\u001b[0m\u001b[0;34m\u001b[0m\u001b[0m\n\u001b[1;32m      2\u001b[0m \u001b[0ma\u001b[0m \u001b[0;34m=\u001b[0m \u001b[0;34m\"pithon\"\u001b[0m\u001b[0;34m\u001b[0m\u001b[0;34m\u001b[0m\u001b[0m\n\u001b[0;32m----> 3\u001b[0;31m \u001b[0ma\u001b[0m\u001b[0;34m[\u001b[0m\u001b[0;36m1\u001b[0m\u001b[0;34m]\u001b[0m \u001b[0;34m=\u001b[0m\u001b[0;34m'y'\u001b[0m\u001b[0;34m\u001b[0m\u001b[0;34m\u001b[0m\u001b[0m\n\u001b[0m",
            "\u001b[0;31mTypeError\u001b[0m: 'str' object does not support item assignment"
          ]
        }
      ]
    },
    {
      "cell_type": "code",
      "source": [
        "b =\"pithon\"\n",
        "c = a[:1] + 'y' + a[2:]\n",
        "c #str타입은 수정이 안된다 -> 메서드를 활용하던지 쪼개서 붙이던지"
      ],
      "metadata": {
        "colab": {
          "base_uri": "https://localhost:8080/",
          "height": 35
        },
        "id": "tMXKqBxb1IES",
        "outputId": "610befa0-98bd-4462-b040-5972d801fb27"
      },
      "execution_count": 53,
      "outputs": [
        {
          "output_type": "execute_result",
          "data": {
            "text/plain": [
              "'python'"
            ],
            "application/vnd.google.colaboratory.intrinsic+json": {
              "type": "string"
            }
          },
          "metadata": {},
          "execution_count": 53
        }
      ]
    },
    {
      "cell_type": "code",
      "source": [
        "#문자열 포멧팅-> 자바에서 printf와 같은 기능\n",
        "#포멧팅은 동적출력을 위한 기능으로 \"\"안에 정수나 문자열등을 추가할ㄸㅐ 활용\n",
        "\"I eat %d apples.\" %3\n",
        "#%d는 포멧팅 코드\n",
        "#마지막에 있는 %는 동적 값을 삽입한다"
      ],
      "metadata": {
        "colab": {
          "base_uri": "https://localhost:8080/",
          "height": 35
        },
        "id": "Gj-D8O-P1l9r",
        "outputId": "e16ae544-e741-45f5-f533-00f3a0cb1e1b"
      },
      "execution_count": 54,
      "outputs": [
        {
          "output_type": "execute_result",
          "data": {
            "text/plain": [
              "'I eat 3 apples.'"
            ],
            "application/vnd.google.colaboratory.intrinsic+json": {
              "type": "string"
            }
          },
          "metadata": {},
          "execution_count": 54
        }
      ]
    },
    {
      "cell_type": "code",
      "source": [
        "\"I eat %s apples.\" %\"five\"\n",
        "#%s는 문자열이 동적으로 삽입됨\n",
        "#마지막에 %뒤에는 문자열을 넣어야 함으로 \"\",'' 처리를 해야 한다."
      ],
      "metadata": {
        "colab": {
          "base_uri": "https://localhost:8080/",
          "height": 35
        },
        "id": "h7x8Ih_R2s-S",
        "outputId": "d7a4ba95-14ba-4254-fe5c-68db9739abe9"
      },
      "execution_count": 55,
      "outputs": [
        {
          "output_type": "execute_result",
          "data": {
            "text/plain": [
              "'I eat five apples.'"
            ],
            "application/vnd.google.colaboratory.intrinsic+json": {
              "type": "string"
            }
          },
          "metadata": {},
          "execution_count": 55
        }
      ]
    },
    {
      "cell_type": "code",
      "source": [
        "number = 3\n",
        "\"I eat %d apples.\" %number"
      ],
      "metadata": {
        "colab": {
          "base_uri": "https://localhost:8080/",
          "height": 35
        },
        "id": "t0FFbk353KPi",
        "outputId": "c81b886e-6c30-46d2-9d2b-c3944b2ff2be"
      },
      "execution_count": 56,
      "outputs": [
        {
          "output_type": "execute_result",
          "data": {
            "text/plain": [
              "'I eat 3 apples.'"
            ],
            "application/vnd.google.colaboratory.intrinsic+json": {
              "type": "string"
            }
          },
          "metadata": {},
          "execution_count": 56
        }
      ]
    },
    {
      "cell_type": "code",
      "source": [
        "number =10\n",
        "day =\"three\"\n",
        "\"I ate %d apples. so I was sick for %s days.\" %(number,day)\n",
        "#동적매개 값을 두개 이상 넣고 싶으면 (괄호 안에, 쉼표로 넣음)\n",
        "#단 순서와 타입은 맞출 것"
      ],
      "metadata": {
        "colab": {
          "base_uri": "https://localhost:8080/",
          "height": 35
        },
        "id": "RURRftIh3i16",
        "outputId": "dd3edd78-7be7-45ce-ce51-fa82ec1ade40"
      },
      "execution_count": 57,
      "outputs": [
        {
          "output_type": "execute_result",
          "data": {
            "text/plain": [
              "'I ate 10 apples. so I was sick for three days.'"
            ],
            "application/vnd.google.colaboratory.intrinsic+json": {
              "type": "string"
            }
          },
          "metadata": {},
          "execution_count": 57
        }
      ]
    },
    {
      "cell_type": "markdown",
      "source": [
        "\n",
        "\n",
        "*   %s : 문자열(String)\n",
        "*   %d : 정수(Integer)\n",
        "*   %c : 문자(character) -> 1개 문자\n",
        "*   %f : 실수(부동소수점)\n",
        "*   %o : 8진수\n",
        "*   %x : 16진수\n",
        "\n"
      ],
      "metadata": {
        "id": "6gkE-V1A4TDh"
      }
    },
    {
      "cell_type": "code",
      "source": [
        "#파이썬의 장점 %s는 정수나 실수를 자동타입으로 문자열 변환함\n",
        "\"I have %s apples\" %3"
      ],
      "metadata": {
        "colab": {
          "base_uri": "https://localhost:8080/",
          "height": 35
        },
        "id": "3aESClaR474B",
        "outputId": "bec141b8-7b14-4280-d00a-ccc108062eb5"
      },
      "execution_count": 58,
      "outputs": [
        {
          "output_type": "execute_result",
          "data": {
            "text/plain": [
              "'I have 3 apples'"
            ],
            "application/vnd.google.colaboratory.intrinsic+json": {
              "type": "string"
            }
          },
          "metadata": {},
          "execution_count": 58
        }
      ]
    },
    {
      "cell_type": "code",
      "source": [
        "\"rate is %s\" %3.234"
      ],
      "metadata": {
        "colab": {
          "base_uri": "https://localhost:8080/",
          "height": 35
        },
        "id": "fH8kM1zr5IM6",
        "outputId": "20652ff0-58fa-4178-db20-9d5576bc3158"
      },
      "execution_count": 59,
      "outputs": [
        {
          "output_type": "execute_result",
          "data": {
            "text/plain": [
              "'rate is 3.234'"
            ],
            "application/vnd.google.colaboratory.intrinsic+json": {
              "type": "string"
            }
          },
          "metadata": {},
          "execution_count": 59
        }
      ]
    },
    {
      "cell_type": "code",
      "source": [
        "#문자열안에 %를 넣고 싶을떄-> Error is 98%\n",
        "\"error is %d%.\" %98"
      ],
      "metadata": {
        "colab": {
          "base_uri": "https://localhost:8080/",
          "height": 166
        },
        "id": "O8dDKkl-5e3K",
        "outputId": "67d8cba1-c85e-44e2-edda-d1ba52f4dc31"
      },
      "execution_count": 60,
      "outputs": [
        {
          "output_type": "error",
          "ename": "ValueError",
          "evalue": "incomplete format",
          "traceback": [
            "\u001b[0;31m---------------------------------------------------------------------------\u001b[0m",
            "\u001b[0;31mValueError\u001b[0m                                Traceback (most recent call last)",
            "\u001b[0;32m<ipython-input-60-696fef998bbb>\u001b[0m in \u001b[0;36m<cell line: 2>\u001b[0;34m()\u001b[0m\n\u001b[1;32m      1\u001b[0m \u001b[0;31m#문자열안에 %를 넣고 싶을떄-> Error is 98%\u001b[0m\u001b[0;34m\u001b[0m\u001b[0;34m\u001b[0m\u001b[0m\n\u001b[0;32m----> 2\u001b[0;31m \u001b[0;34m\"error is %d%.\"\u001b[0m \u001b[0;34m%\u001b[0m\u001b[0;36m98\u001b[0m\u001b[0;34m\u001b[0m\u001b[0;34m\u001b[0m\u001b[0m\n\u001b[0m",
            "\u001b[0;31mValueError\u001b[0m: incomplete format"
          ]
        }
      ]
    },
    {
      "cell_type": "code",
      "source": [
        "\"error is %d%%.\" %98 #확률을 출력할때 %는 예약어로 2번써야(%%) 문자열 처리됨"
      ],
      "metadata": {
        "colab": {
          "base_uri": "https://localhost:8080/",
          "height": 35
        },
        "id": "JeRX-QnT59zJ",
        "outputId": "6cb26977-0907-4257-8e87-05df15e7f5aa"
      },
      "execution_count": 61,
      "outputs": [
        {
          "output_type": "execute_result",
          "data": {
            "text/plain": [
              "'error is 98%.'"
            ],
            "application/vnd.google.colaboratory.intrinsic+json": {
              "type": "string"
            }
          },
          "metadata": {},
          "execution_count": 61
        }
      ]
    },
    {
      "cell_type": "code",
      "source": [
        "#포멧팅 숫자 처리(문자는 기본적으로 왼쪽정렬, 숫자는 오른쪽 정렬)\n",
        "\n",
        "\"%-10s MBC ai\" % \"hi\" #-10은 문자열 10칸을 여백으로 생성하고 그 안쪽에 문자를 왼쪽정렬하여 넣음\n"
      ],
      "metadata": {
        "colab": {
          "base_uri": "https://localhost:8080/",
          "height": 35
        },
        "id": "fBaBSbOI6hGK",
        "outputId": "97d90269-3721-463e-bc29-2e5054d7e63a"
      },
      "execution_count": 64,
      "outputs": [
        {
          "output_type": "execute_result",
          "data": {
            "text/plain": [
              "'hi         MBC ai'"
            ],
            "application/vnd.google.colaboratory.intrinsic+json": {
              "type": "string"
            }
          },
          "metadata": {},
          "execution_count": 64
        }
      ]
    },
    {
      "cell_type": "code",
      "source": [
        "#소수점 포맷팅\n",
        "\"%10.4f\" %33333333333.1415967 #0.4는 소수점 4자리까지 출력(반올림)\n",
        "#정수쪽 10은 기본자리수가 10자리지만 넘치면 알아서 늘려줌"
      ],
      "metadata": {
        "colab": {
          "base_uri": "https://localhost:8080/",
          "height": 35
        },
        "id": "zmKIwAdj8AaS",
        "outputId": "89c640e6-fc4a-4f62-9021-849b5fdbb89f"
      },
      "execution_count": 68,
      "outputs": [
        {
          "output_type": "execute_result",
          "data": {
            "text/plain": [
              "'33333333333.1416'"
            ],
            "application/vnd.google.colaboratory.intrinsic+json": {
              "type": "string"
            }
          },
          "metadata": {},
          "execution_count": 68
        }
      ]
    },
    {
      "cell_type": "code",
      "source": [
        "#포멧팅에 가독성을 높이기 위해서 .format()메서드를 만들어 놓았다.\n",
        "\"I eat {0} apples\" .format(3)"
      ],
      "metadata": {
        "colab": {
          "base_uri": "https://localhost:8080/",
          "height": 35
        },
        "id": "io9i8IhB9cKC",
        "outputId": "05a92e3f-6c4b-4996-8376-6114651e0c46"
      },
      "execution_count": 69,
      "outputs": [
        {
          "output_type": "execute_result",
          "data": {
            "text/plain": [
              "'I eat 3 apples'"
            ],
            "application/vnd.google.colaboratory.intrinsic+json": {
              "type": "string"
            }
          },
          "metadata": {},
          "execution_count": 69
        }
      ]
    },
    {
      "cell_type": "code",
      "source": [
        "\"I eat {0} apples\" .format(\"five\")"
      ],
      "metadata": {
        "colab": {
          "base_uri": "https://localhost:8080/",
          "height": 35
        },
        "id": "8qTIlZ8d-Bby",
        "outputId": "a4eb5dc4-7d39-4a5b-c5f0-4bd74a28561b"
      },
      "execution_count": 70,
      "outputs": [
        {
          "output_type": "execute_result",
          "data": {
            "text/plain": [
              "'I eat five apples'"
            ],
            "application/vnd.google.colaboratory.intrinsic+json": {
              "type": "string"
            }
          },
          "metadata": {},
          "execution_count": 70
        }
      ]
    },
    {
      "cell_type": "code",
      "source": [
        "number = 3\n",
        "\"I eat {0} apples\" .format(number)"
      ],
      "metadata": {
        "colab": {
          "base_uri": "https://localhost:8080/",
          "height": 35
        },
        "id": "5iLKnes0-N7p",
        "outputId": "7a2ac67d-dfab-452f-ce6e-3d0af70f4b29"
      },
      "execution_count": 71,
      "outputs": [
        {
          "output_type": "execute_result",
          "data": {
            "text/plain": [
              "'I eat 3 apples'"
            ],
            "application/vnd.google.colaboratory.intrinsic+json": {
              "type": "string"
            }
          },
          "metadata": {},
          "execution_count": 71
        }
      ]
    },
    {
      "cell_type": "code",
      "source": [
        "number = 10\n",
        "day = \"three\"\n",
        "\"I eat {1} apples. so I was sick for {0} days\" .format(number, day)"
      ],
      "metadata": {
        "colab": {
          "base_uri": "https://localhost:8080/",
          "height": 35
        },
        "id": "UdM9hrpq-bTJ",
        "outputId": "65e84721-5acc-41f4-d257-4edf2dabd4d2"
      },
      "execution_count": 73,
      "outputs": [
        {
          "output_type": "execute_result",
          "data": {
            "text/plain": [
              "'I eat three apples. so I was sick for 10 days'"
            ],
            "application/vnd.google.colaboratory.intrinsic+json": {
              "type": "string"
            }
          },
          "metadata": {},
          "execution_count": 73
        }
      ]
    },
    {
      "cell_type": "code",
      "source": [
        "\"I eat {number} apples. so I was sick for {day} days\" .format(number=10, day=3)"
      ],
      "metadata": {
        "colab": {
          "base_uri": "https://localhost:8080/",
          "height": 35
        },
        "id": "6y5vAmnk-6i5",
        "outputId": "1a1df8d7-2b8f-43e5-b7f3-7c908bbf4b5e"
      },
      "execution_count": 74,
      "outputs": [
        {
          "output_type": "execute_result",
          "data": {
            "text/plain": [
              "'I eat 10 apples. so I was sick for 3 days'"
            ],
            "application/vnd.google.colaboratory.intrinsic+json": {
              "type": "string"
            }
          },
          "metadata": {},
          "execution_count": 74
        }
      ]
    },
    {
      "cell_type": "code",
      "source": [
        "\"I eat {0} apples. so I was sick for {day} days\" .format(10, day=3)"
      ],
      "metadata": {
        "colab": {
          "base_uri": "https://localhost:8080/",
          "height": 35
        },
        "id": "nNZewr97_Msh",
        "outputId": "48910473-7995-4075-8dc3-beaf7d7dc6dc"
      },
      "execution_count": 75,
      "outputs": [
        {
          "output_type": "execute_result",
          "data": {
            "text/plain": [
              "'I eat 10 apples. so I was sick for 3 days'"
            ],
            "application/vnd.google.colaboratory.intrinsic+json": {
              "type": "string"
            }
          },
          "metadata": {},
          "execution_count": 75
        }
      ]
    },
    {
      "cell_type": "code",
      "source": [
        "\"MBC AI {0:^10} PYTHON\" .format(\"hi\")"
      ],
      "metadata": {
        "colab": {
          "base_uri": "https://localhost:8080/",
          "height": 35
        },
        "id": "od4Jz0V2_X9R",
        "outputId": "64861a32-5b11-4f85-f2ec-b00d27611165"
      },
      "execution_count": 79,
      "outputs": [
        {
          "output_type": "execute_result",
          "data": {
            "text/plain": [
              "'MBC AI     hi     PYTHON'"
            ],
            "application/vnd.google.colaboratory.intrinsic+json": {
              "type": "string"
            }
          },
          "metadata": {},
          "execution_count": 79
        }
      ]
    },
    {
      "cell_type": "code",
      "source": [
        "\"{0:=^10}\" .format(\"hi\")"
      ],
      "metadata": {
        "colab": {
          "base_uri": "https://localhost:8080/",
          "height": 35
        },
        "id": "qBxMtDPPLeGQ",
        "outputId": "3d6a0b95-aa82-4c2d-fab3-797a8b11107d"
      },
      "execution_count": 82,
      "outputs": [
        {
          "output_type": "execute_result",
          "data": {
            "text/plain": [
              "'====hi===='"
            ],
            "application/vnd.google.colaboratory.intrinsic+json": {
              "type": "string"
            }
          },
          "metadata": {},
          "execution_count": 82
        }
      ]
    },
    {
      "cell_type": "code",
      "source": [
        "\"{0:!<10}\" .format(\"hi\")"
      ],
      "metadata": {
        "colab": {
          "base_uri": "https://localhost:8080/",
          "height": 35
        },
        "id": "luoQtPNDL2Kh",
        "outputId": "7391a92f-4c23-4aaf-975c-ea820066d51f"
      },
      "execution_count": 83,
      "outputs": [
        {
          "output_type": "execute_result",
          "data": {
            "text/plain": [
              "'hi!!!!!!!!'"
            ],
            "application/vnd.google.colaboratory.intrinsic+json": {
              "type": "string"
            }
          },
          "metadata": {},
          "execution_count": 83
        }
      ]
    },
    {
      "cell_type": "code",
      "source": [
        "#소수점 표현하기\n",
        "y=3.987654321\n",
        "\"{0:10.4f}\" .format(y) #총 자리수 10자리 중에 소수점은 4자리로 출력"
      ],
      "metadata": {
        "colab": {
          "base_uri": "https://localhost:8080/",
          "height": 35
        },
        "id": "qVwGC4eZMIzA",
        "outputId": "b19390a2-660a-45ca-df78-7a962ec70082"
      },
      "execution_count": 85,
      "outputs": [
        {
          "output_type": "execute_result",
          "data": {
            "text/plain": [
              "'    3.9877'"
            ],
            "application/vnd.google.colaboratory.intrinsic+json": {
              "type": "string"
            }
          },
          "metadata": {},
          "execution_count": 85
        }
      ]
    },
    {
      "cell_type": "code",
      "source": [
        "#{문자} 출력하고 싶을때\n",
        "\n",
        "\"{{문자}}\".format()\n",
        "#예약기호를 2번 연속 기입하면 문자형태로 출력가능"
      ],
      "metadata": {
        "colab": {
          "base_uri": "https://localhost:8080/",
          "height": 35
        },
        "id": "bcPLH8I3Mrr5",
        "outputId": "cecb29c6-a371-43aa-9268-21e11e8b4792"
      },
      "execution_count": 88,
      "outputs": [
        {
          "output_type": "execute_result",
          "data": {
            "text/plain": [
              "'{문자}'"
            ],
            "application/vnd.google.colaboratory.intrinsic+json": {
              "type": "string"
            }
          },
          "metadata": {},
          "execution_count": 88
        }
      ]
    },
    {
      "cell_type": "code",
      "source": [
        "#파이썬 3.6이상 버전의 최신 포멧팅\n",
        "#.format()메서드를 사용하지 않는 기법 -> 접두사로 f를 기입\n",
        "name = \"김기원\"\n",
        "age = 42\n",
        "text = f\"\"\"나의 이름은 {name}입니다.\n",
        " 나이는 {age+5}입니다.\"\"\"\n",
        "print(text)"
      ],
      "metadata": {
        "colab": {
          "base_uri": "https://localhost:8080/"
        },
        "id": "-41e7dvBNcFn",
        "outputId": "3179ce39-8a8c-452c-ab46-7ccb85da49f2"
      },
      "execution_count": 95,
      "outputs": [
        {
          "output_type": "stream",
          "name": "stdout",
          "text": [
            "나의 이름은 김기원입니다.\n",
            " 나이는 47입니다.\n"
          ]
        }
      ]
    },
    {
      "cell_type": "code",
      "source": [
        "#딕셔너리를 활용한 포멧팅(key:value)\n",
        "d = {'name':'홍길동', 'age':30}\n",
        "f'나의 이름은 {d[\"name\"]}입니다. 나이는 {d[\"age\"]}입니다.'"
      ],
      "metadata": {
        "colab": {
          "base_uri": "https://localhost:8080/",
          "height": 35
        },
        "id": "CPcBHi07O7HY",
        "outputId": "c363e915-6489-4849-d173-a3513189736c"
      },
      "execution_count": 96,
      "outputs": [
        {
          "output_type": "execute_result",
          "data": {
            "text/plain": [
              "'나의 이름은 홍길동입니다. 나이는 30입니다.'"
            ],
            "application/vnd.google.colaboratory.intrinsic+json": {
              "type": "string"
            }
          },
          "metadata": {},
          "execution_count": 96
        }
      ]
    },
    {
      "cell_type": "code",
      "source": [
        "f'{\"hi\":<10}'"
      ],
      "metadata": {
        "colab": {
          "base_uri": "https://localhost:8080/",
          "height": 35
        },
        "id": "Y3BLglDeQVk4",
        "outputId": "1258f157-4365-431c-a5c0-d40662aef1a9"
      },
      "execution_count": 98,
      "outputs": [
        {
          "output_type": "execute_result",
          "data": {
            "text/plain": [
              "'hi        '"
            ],
            "application/vnd.google.colaboratory.intrinsic+json": {
              "type": "string"
            }
          },
          "metadata": {},
          "execution_count": 98
        }
      ]
    },
    {
      "cell_type": "code",
      "source": [
        "f'{\"hi\":=^10}'"
      ],
      "metadata": {
        "colab": {
          "base_uri": "https://localhost:8080/",
          "height": 35
        },
        "id": "TK6gSUFvQo04",
        "outputId": "25711452-04b9-4787-d5c7-2628095999ab"
      },
      "execution_count": 99,
      "outputs": [
        {
          "output_type": "execute_result",
          "data": {
            "text/plain": [
              "'====hi===='"
            ],
            "application/vnd.google.colaboratory.intrinsic+json": {
              "type": "string"
            }
          },
          "metadata": {},
          "execution_count": 99
        }
      ]
    },
    {
      "cell_type": "code",
      "source": [
        "y = 3.84631243\n",
        "f'{y:_>10.4f}'"
      ],
      "metadata": {
        "colab": {
          "base_uri": "https://localhost:8080/",
          "height": 35
        },
        "id": "cEiEExdDQ8HA",
        "outputId": "9bda2cab-c703-4b92-c178-899015211fb9"
      },
      "execution_count": 101,
      "outputs": [
        {
          "output_type": "execute_result",
          "data": {
            "text/plain": [
              "'____3.8463'"
            ],
            "application/vnd.google.colaboratory.intrinsic+json": {
              "type": "string"
            }
          },
          "metadata": {},
          "execution_count": 101
        }
      ]
    },
    {
      "cell_type": "code",
      "source": [
        "#{문자}로 출력하고 싶을때\n",
        "f'{{문자}}'"
      ],
      "metadata": {
        "colab": {
          "base_uri": "https://localhost:8080/",
          "height": 35
        },
        "id": "lKk6W0zGRllq",
        "outputId": "fb9c98e6-9727-4824-e645-c92bec5f6d91"
      },
      "execution_count": 102,
      "outputs": [
        {
          "output_type": "execute_result",
          "data": {
            "text/plain": [
              "'{문자}'"
            ],
            "application/vnd.google.colaboratory.intrinsic+json": {
              "type": "string"
            }
          },
          "metadata": {},
          "execution_count": 102
        }
      ]
    },
    {
      "cell_type": "code",
      "source": [
        "money = True\n",
        "if money:\n",
        "    print(\"택시를\")\n",
        "    print(\"타고\")\n",
        "    print(\"가라\")"
      ],
      "metadata": {
        "colab": {
          "base_uri": "https://localhost:8080/"
        },
        "id": "-jmuy555R6_A",
        "outputId": "a1367e11-28a0-4944-edc3-0af1e649a7ac"
      },
      "execution_count": 103,
      "outputs": [
        {
          "output_type": "stream",
          "name": "stdout",
          "text": [
            "택시를\n",
            "타고\n",
            "가라\n"
          ]
        }
      ]
    },
    {
      "cell_type": "code",
      "source": [
        "pocket = ['paper', 'cellphone', 'money']\n",
        "if 'money' in pocket:\n",
        "     print(\"택시를 타고 가라\")\n",
        "else:\n",
        "     print(\"걸어가라\")"
      ],
      "metadata": {
        "colab": {
          "base_uri": "https://localhost:8080/"
        },
        "id": "LL0bKLGCUUK5",
        "outputId": "4a3a0efe-6f8d-4bd8-e92c-54f62a5371f4"
      },
      "execution_count": 104,
      "outputs": [
        {
          "output_type": "stream",
          "name": "stdout",
          "text": [
            "택시를 타고 가라\n"
          ]
        }
      ]
    },
    {
      "cell_type": "code",
      "source": [
        "score = 70\n",
        "message = \"success\" if score >= 60 else \"failure\"\n",
        "message\n",
        "#변수 = 조건문이_참인_경우의_값 if 조건문 else 조건문이_거짓인_경우의_값"
      ],
      "metadata": {
        "colab": {
          "base_uri": "https://localhost:8080/",
          "height": 35
        },
        "id": "OepoDODXVHn3",
        "outputId": "f5989c63-8682-449c-9bb3-033ae793f222"
      },
      "execution_count": 110,
      "outputs": [
        {
          "output_type": "execute_result",
          "data": {
            "text/plain": [
              "'success'"
            ],
            "application/vnd.google.colaboratory.intrinsic+json": {
              "type": "string"
            }
          },
          "metadata": {},
          "execution_count": 110
        }
      ]
    },
    {
      "cell_type": "code",
      "source": [
        "id(message)\n",
        "#message의 주소값"
      ],
      "metadata": {
        "colab": {
          "base_uri": "https://localhost:8080/"
        },
        "id": "TsGM5ffhVrFo",
        "outputId": "ec7c2b6e-0992-4f9f-bdb6-c70bd982936e"
      },
      "execution_count": 111,
      "outputs": [
        {
          "output_type": "execute_result",
          "data": {
            "text/plain": [
              "133404476732976"
            ]
          },
          "metadata": {},
          "execution_count": 111
        }
      ]
    },
    {
      "cell_type": "code",
      "source": [
        "id(b)"
      ],
      "metadata": {
        "colab": {
          "base_uri": "https://localhost:8080/"
        },
        "id": "fzkRqmE8Vzsv",
        "outputId": "dfe1f5d5-3b00-4d51-f76d-a8588a37cafb"
      },
      "execution_count": 113,
      "outputs": [
        {
          "output_type": "execute_result",
          "data": {
            "text/plain": [
              "133403168209456"
            ]
          },
          "metadata": {},
          "execution_count": 113
        }
      ]
    },
    {
      "cell_type": "code",
      "source": [
        "a is b"
      ],
      "metadata": {
        "colab": {
          "base_uri": "https://localhost:8080/"
        },
        "id": "GyjkAIbhV9On",
        "outputId": "1b4f51fb-6f0a-4834-f0ab-887034e40c2b"
      },
      "execution_count": 116,
      "outputs": [
        {
          "output_type": "execute_result",
          "data": {
            "text/plain": [
              "True"
            ]
          },
          "metadata": {},
          "execution_count": 116
        }
      ]
    },
    {
      "cell_type": "code",
      "source": [
        "from copy import copy\n",
        "a = [1, 2, 3]\n",
        "b = copy(a)\n",
        "b"
      ],
      "metadata": {
        "colab": {
          "base_uri": "https://localhost:8080/"
        },
        "id": "amC84D4-WX_g",
        "outputId": "1fe19e3a-2371-4068-ecbd-12e357a3d18a"
      },
      "execution_count": 117,
      "outputs": [
        {
          "output_type": "execute_result",
          "data": {
            "text/plain": [
              "[1, 2, 3]"
            ]
          },
          "metadata": {},
          "execution_count": 117
        }
      ]
    },
    {
      "cell_type": "code",
      "source": [
        "b is a"
      ],
      "metadata": {
        "colab": {
          "base_uri": "https://localhost:8080/"
        },
        "id": "-uxdFUSiWnxP",
        "outputId": "455df039-0946-4bf2-f09c-a127e8c2d015"
      },
      "execution_count": 118,
      "outputs": [
        {
          "output_type": "execute_result",
          "data": {
            "text/plain": [
              "False"
            ]
          },
          "metadata": {},
          "execution_count": 118
        }
      ]
    },
    {
      "cell_type": "code",
      "source": [
        "a, b = ('python', 'life')\n",
        "a"
      ],
      "metadata": {
        "colab": {
          "base_uri": "https://localhost:8080/",
          "height": 35
        },
        "id": "iTar6eydW8PA",
        "outputId": "20a73bbe-7b01-46dd-a40a-dd76bd6cc00d"
      },
      "execution_count": 119,
      "outputs": [
        {
          "output_type": "execute_result",
          "data": {
            "text/plain": [
              "'python'"
            ],
            "application/vnd.google.colaboratory.intrinsic+json": {
              "type": "string"
            }
          },
          "metadata": {},
          "execution_count": 119
        }
      ]
    },
    {
      "cell_type": "code",
      "source": [
        "(a, b) = 'python', 'life'\n",
        "b"
      ],
      "metadata": {
        "colab": {
          "base_uri": "https://localhost:8080/",
          "height": 35
        },
        "id": "q6TeIDIGXDaX",
        "outputId": "676bc6ee-e8cf-4473-ca7d-7f30aaf3d494"
      },
      "execution_count": 120,
      "outputs": [
        {
          "output_type": "execute_result",
          "data": {
            "text/plain": [
              "'life'"
            ],
            "application/vnd.google.colaboratory.intrinsic+json": {
              "type": "string"
            }
          },
          "metadata": {},
          "execution_count": 120
        }
      ]
    },
    {
      "cell_type": "code",
      "source": [
        "[a, b] = ['python', 'life']\n",
        "b"
      ],
      "metadata": {
        "colab": {
          "base_uri": "https://localhost:8080/",
          "height": 35
        },
        "id": "ddyGDsntXHc3",
        "outputId": "ad4fbd30-752a-4e98-a602-21e7b6b8fb5f"
      },
      "execution_count": 121,
      "outputs": [
        {
          "output_type": "execute_result",
          "data": {
            "text/plain": [
              "'life'"
            ],
            "application/vnd.google.colaboratory.intrinsic+json": {
              "type": "string"
            }
          },
          "metadata": {},
          "execution_count": 121
        }
      ]
    },
    {
      "cell_type": "code",
      "source": [
        "pocket = ['paper', 'cellphone']\n",
        "card = True\n",
        "if 'money' in pocket:\n",
        "     print(\"택시를 타고가라\")\n",
        "else:\n",
        "     if card:\n",
        "         print(\"택시를 타고가라\")\n",
        "     else:\n",
        "         print(\"걸어가라\")"
      ],
      "metadata": {
        "colab": {
          "base_uri": "https://localhost:8080/"
        },
        "id": "Dxnovv99UwvX",
        "outputId": "c0d45480-04e2-4d0e-faf8-19ae74856ca8"
      },
      "execution_count": 105,
      "outputs": [
        {
          "output_type": "stream",
          "name": "stdout",
          "text": [
            "택시를 타고가라\n"
          ]
        }
      ]
    },
    {
      "cell_type": "code",
      "source": [
        "number = 0\n",
        "prompt = \"\"\"\n",
        "1.Add\n",
        "2. Del\n",
        "3. List\n",
        "4. Quit\n",
        "Enter number: \"\"\"\n",
        "while number != 4:\n",
        "    print(prompt)\n",
        "    number = int(input())\n",
        "# 사용자가 값 4를 입력하지 않으면 계속해서 prompt를 출력한다."
      ],
      "metadata": {
        "colab": {
          "base_uri": "https://localhost:8080/"
        },
        "id": "DJ4lv0EgXmXP",
        "outputId": "5f67fd89-ac4f-4c05-db49-6b98f31f5e38"
      },
      "execution_count": 126,
      "outputs": [
        {
          "name": "stdout",
          "output_type": "stream",
          "text": [
            "\n",
            "1.Add\n",
            "2. Del\n",
            "3. List\n",
            "4. Quit\n",
            "Enter number: \n",
            "4\n"
          ]
        }
      ]
    },
    {
      "cell_type": "markdown",
      "source": [
        "비교연산자 / 설명\n",
        "* x < y\t/ x가 y보다 작다.\n",
        "* x > y\t/ x가 y보다 크다.\n",
        "* x == y /\tx와 y가 같다.\n",
        "* x != y /\tx와 y가 같지 않다.\n",
        "* x >= y /\tx가 y보다 크거나 같다.\n",
        "* x <= y /\tx가 y보다 작거나 같다.\n"
      ],
      "metadata": {
        "id": "-zlW6ZXBXoRa"
      }
    },
    {
      "cell_type": "code",
      "source": [
        "coffee = 10\n",
        "while True:\n",
        "  money = int(input(\"돈을 넣어주세요:\"))\n",
        "  if money == 300:\n",
        "    print(\"커피를 줍니다.\")\n",
        "    coffee = coffee -1\n",
        "  elif money > 300:\n",
        "    print(\"거스름돈 %d를 주고 커피를 줍니다.\" %(money -300))\n",
        "    coffee = coffee -1\n",
        "  else:\n",
        "    print(\"돈을 다시 돌려주고 커피를 주지 않습니다.\")\n",
        "    print(\"남은 커피의 양은 %d개 입니다.\" %coffee)\n",
        "  if coffee == 0:\n",
        "    print(\"커피가 다 떨어졌습니다. 판매를 중지합니다.\")\n",
        "    break"
      ],
      "metadata": {
        "colab": {
          "base_uri": "https://localhost:8080/"
        },
        "id": "tk_ohH1FZ7T3",
        "outputId": "1120ec07-e79b-4645-877b-c5b4bc973900"
      },
      "execution_count": 127,
      "outputs": [
        {
          "output_type": "stream",
          "name": "stdout",
          "text": [
            "돈을 넣어주세요:200\n",
            "돈을 다시 돌려주고 커피를 주지 않습니다.\n",
            "남은 커피의 양은 10개 입니다.\n",
            "돈을 넣어주세요:300\n",
            "커피를 줍니다.\n",
            "돈을 넣어주세요:600\n",
            "거스름돈 300를 주고 커피를 줍니다.\n",
            "돈을 넣어주세요:0\n",
            "돈을 다시 돌려주고 커피를 주지 않습니다.\n",
            "남은 커피의 양은 8개 입니다.\n",
            "돈을 넣어주세요:300\n",
            "커피를 줍니다.\n",
            "돈을 넣어주세요:300\n",
            "커피를 줍니다.\n",
            "돈을 넣어주세요:300\n",
            "커피를 줍니다.\n",
            "돈을 넣어주세요:0\n",
            "돈을 다시 돌려주고 커피를 주지 않습니다.\n",
            "남은 커피의 양은 5개 입니다.\n",
            "돈을 넣어주세요:300\n",
            "커피를 줍니다.\n",
            "돈을 넣어주세요:30\n",
            "돈을 다시 돌려주고 커피를 주지 않습니다.\n",
            "남은 커피의 양은 4개 입니다.\n",
            "돈을 넣어주세요:300\n",
            "커피를 줍니다.\n",
            "돈을 넣어주세요:300\n",
            "커피를 줍니다.\n",
            "돈을 넣어주세요:3300\n",
            "거스름돈 3000를 주고 커피를 줍니다.\n",
            "돈을 넣어주세요:300\n",
            "커피를 줍니다.\n",
            "커피가 다 떨어졌습니다. 판매를 중지합니다.\n"
          ]
        }
      ]
    },
    {
      "cell_type": "code",
      "source": [
        "a = 0\n",
        "while a < 10:\n",
        "  a = a + 1\n",
        "  if a % 2 == 0: continue #continue 문은 while 문의 맨 처음인 조건문(a < 10)으로 돌아가게 하는 명령어\n",
        "  print(a)"
      ],
      "metadata": {
        "colab": {
          "base_uri": "https://localhost:8080/"
        },
        "id": "AFDLqWuObTDA",
        "outputId": "08b4c955-2c79-4788-ae12-4f624c9a18a8"
      },
      "execution_count": 128,
      "outputs": [
        {
          "output_type": "stream",
          "name": "stdout",
          "text": [
            "1\n",
            "3\n",
            "5\n",
            "7\n",
            "9\n"
          ]
        }
      ]
    },
    {
      "cell_type": "code",
      "source": [
        "#while True:\n",
        "    #print(\"Ctrl+c를 눌러야 while문을 빠져나갈 수 있습니다.\")"
      ],
      "metadata": {
        "id": "YY6uzYZScT0j"
      },
      "execution_count": null,
      "outputs": []
    },
    {
      "cell_type": "code",
      "source": [
        "a = [(1,2),(3,4),(5,6)]\n",
        "for (first, last) in a:\n",
        "    print(first + last)"
      ],
      "metadata": {
        "colab": {
          "base_uri": "https://localhost:8080/"
        },
        "id": "rg9iCaTUcjx3",
        "outputId": "6297b507-e4eb-4f4f-b4ba-a27480a85d95"
      },
      "execution_count": 132,
      "outputs": [
        {
          "output_type": "stream",
          "name": "stdout",
          "text": [
            "3\n",
            "7\n",
            "11\n"
          ]
        }
      ]
    },
    {
      "cell_type": "code",
      "source": [
        "marks = [90, 25, 67, 45, 80]   # 학생들의 시험 점수 리스트\n",
        "\n",
        "number = 0   # 학생에게 붙여 줄 번호\n",
        "for mark in marks:   # 90, 25, 67, 45, 80을 순서대로 mark에 대입\n",
        "    number = number +1\n",
        "    if mark >= 60:\n",
        "        print(\"%d번 학생은 합격입니다.\" % number)\n",
        "    else:\n",
        "        print(\"%d번 학생은 불합격입니다.\" % number)"
      ],
      "metadata": {
        "colab": {
          "base_uri": "https://localhost:8080/"
        },
        "id": "Fjh8KqKtdF9-",
        "outputId": "ca2f787c-0f34-437d-d2b5-6fa1ecd9d6d1"
      },
      "execution_count": 133,
      "outputs": [
        {
          "output_type": "stream",
          "name": "stdout",
          "text": [
            "1번 학생은 합격입니다.\n",
            "2번 학생은 불합격입니다.\n",
            "3번 학생은 합격입니다.\n",
            "4번 학생은 불합격입니다.\n",
            "5번 학생은 합격입니다.\n"
          ]
        }
      ]
    },
    {
      "cell_type": "code",
      "source": [
        "range(1,10)"
      ],
      "metadata": {
        "colab": {
          "base_uri": "https://localhost:8080/"
        },
        "id": "nDeObJIUdWJP",
        "outputId": "039930c8-8bf7-4186-bde3-73953d6efa44"
      },
      "execution_count": 136,
      "outputs": [
        {
          "output_type": "execute_result",
          "data": {
            "text/plain": [
              "range(1, 10)"
            ]
          },
          "metadata": {},
          "execution_count": 136
        }
      ]
    },
    {
      "cell_type": "code",
      "source": [
        "for i in range(2,10):\n",
        "  for j in range(1,10):\n",
        "    print(  i*j, end=\" \") #03-3\n",
        "  print('') #두번째 for문이 끝나면 결과값을 다음 줄부터 출력하게하는 역할"
      ],
      "metadata": {
        "colab": {
          "base_uri": "https://localhost:8080/"
        },
        "id": "a_zdKQBJeEwX",
        "outputId": "980eabe1-7df6-4195-ead9-6ad0d396256b"
      },
      "execution_count": 139,
      "outputs": [
        {
          "output_type": "stream",
          "name": "stdout",
          "text": [
            "2 4 6 8 10 12 14 16 18 \n",
            "3 6 9 12 15 18 21 24 27 \n",
            "4 8 12 16 20 24 28 32 36 \n",
            "5 10 15 20 25 30 35 40 45 \n",
            "6 12 18 24 30 36 42 48 54 \n",
            "7 14 21 28 35 42 49 56 63 \n",
            "8 16 24 32 40 48 56 64 72 \n",
            "9 18 27 36 45 54 63 72 81 \n"
          ]
        }
      ]
    },
    {
      "cell_type": "code",
      "source": [
        "a = [1,2,3,4]\n",
        "result = []\n",
        "for num in a:\n",
        "  result.append(num*3) #a 리스트의 각 항목에 3을 곱한 결과를 result 리스트에 담았다.\n",
        "  print(result)"
      ],
      "metadata": {
        "colab": {
          "base_uri": "https://localhost:8080/"
        },
        "id": "DetjzPcOfNPE",
        "outputId": "23d01da8-633d-4155-8869-6d07c02cbd49"
      },
      "execution_count": 140,
      "outputs": [
        {
          "output_type": "stream",
          "name": "stdout",
          "text": [
            "[3]\n",
            "[3, 6]\n",
            "[3, 6, 9]\n",
            "[3, 6, 9, 12]\n"
          ]
        }
      ]
    },
    {
      "cell_type": "code",
      "source": [
        "a = [1,2,3,4]\n",
        "result = [num + 3 for num in a if num % 2 == 0]\n",
        "#        [표현식 for 항목 in 반복_가능_객체 if 조건문]\n",
        "#        [표현식 for 항목1 in 반복_가능_객체1 if 조건문1\n",
        "#               for 항목2 in 반복_가능_객체2 if 조건문2\n",
        "#                ...\n",
        "#               for 항목n in 반복_가능_객체n if 조건문n]\n",
        "print(result)"
      ],
      "metadata": {
        "colab": {
          "base_uri": "https://localhost:8080/"
        },
        "id": "BOqXeb-8f4Ee",
        "outputId": "d77ceb7f-9f7b-46b4-a98a-972493f1f53c"
      },
      "execution_count": 141,
      "outputs": [
        {
          "output_type": "stream",
          "name": "stdout",
          "text": [
            "[5, 7]\n"
          ]
        }
      ]
    },
    {
      "cell_type": "code",
      "source": [
        "result = [x*y for x in range(2,10)\n",
        "              for y in range(1,10)]\n",
        "print(result)"
      ],
      "metadata": {
        "colab": {
          "base_uri": "https://localhost:8080/"
        },
        "id": "OXUvulgpgYCv",
        "outputId": "2da60f6d-4fdf-4687-e8b4-6b39f60c023f"
      },
      "execution_count": 142,
      "outputs": [
        {
          "output_type": "stream",
          "name": "stdout",
          "text": [
            "[2, 4, 6, 8, 10, 12, 14, 16, 18, 3, 6, 9, 12, 15, 18, 21, 24, 27, 4, 8, 12, 16, 20, 24, 28, 32, 36, 5, 10, 15, 20, 25, 30, 35, 40, 45, 6, 12, 18, 24, 30, 36, 42, 48, 54, 7, 14, 21, 28, 35, 42, 49, 56, 63, 8, 16, 24, 32, 40, 48, 56, 64, 72, 9, 18, 27, 36, 45, 54, 63, 72, 81]\n"
          ]
        }
      ]
    },
    {
      "cell_type": "code",
      "source": [],
      "metadata": {
        "id": "z0H3k-OfhRam"
      },
      "execution_count": null,
      "outputs": []
    }
  ]
}