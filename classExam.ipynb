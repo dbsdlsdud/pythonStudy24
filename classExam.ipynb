{
  "nbformat": 4,
  "nbformat_minor": 0,
  "metadata": {
    "colab": {
      "provenance": [],
      "authorship_tag": "ABX9TyMQ3zChFyQLPrrkM2tXgXQQ",
      "include_colab_link": true
    },
    "kernelspec": {
      "name": "python3",
      "display_name": "Python 3"
    },
    "language_info": {
      "name": "python"
    }
  },
  "cells": [
    {
      "cell_type": "markdown",
      "metadata": {
        "id": "view-in-github",
        "colab_type": "text"
      },
      "source": [
        "<a href=\"https://colab.research.google.com/github/dbsdlsdud/pythonStudy24/blob/master/classExam.ipynb\" target=\"_parent\"><img src=\"https://colab.research.google.com/assets/colab-badge.svg\" alt=\"Open In Colab\"/></a>"
      ]
    },
    {
      "cell_type": "markdown",
      "source": [
        "클래스는 객체지향 언어의 필수로 각각의 객체를 담당한다.\n",
        "* 만약 shopingMall프로젝트를 만든다고 하면\n",
        "* 회원용.py -> 동작(메서드) C, R, U, D, other\n",
        "* 아이템.py -> 동작(메서드) C, R, U, D, other\n",
        "* 게시판.py -> 동작(메서드) C, R, U, D, other\n",
        "* 장바구니.py -> 동작(메서드) C, R, U, D, other\n",
        "* 등이 main.py와 연동되게 설정한다."
      ],
      "metadata": {
        "id": "Flq13dBKinuS"
      }
    },
    {
      "cell_type": "code",
      "execution_count": 1,
      "metadata": {
        "colab": {
          "base_uri": "https://localhost:8080/"
        },
        "id": "_VzNzXu6icPs",
        "outputId": "6800fac2-2570-474c-d450-657fa4a6ec59"
      },
      "outputs": [
        {
          "output_type": "stream",
          "name": "stdout",
          "text": [
            "4\n"
          ]
        }
      ],
      "source": [
        "#계산기 처리용 클래스\n",
        "\n",
        "result = 0 #결과값 처리용 변수\n",
        "\n",
        "def add(num):\n",
        "    global result   #전역변수 사용\n",
        "    result += num   #메서드에 입력값을 더함\n",
        "    return result   #결과를 보냄\n",
        "\n",
        "print(add(4))   #위에 만든 메서드에 4를 입력하고 return값을 출력"
      ]
    },
    {
      "cell_type": "code",
      "source": [
        "print(add(9))"
      ],
      "metadata": {
        "colab": {
          "base_uri": "https://localhost:8080/"
        },
        "id": "IRqazDg6k6Ei",
        "outputId": "86d8e9e3-b001-4c37-ca1d-6a4b6e5bfee3"
      },
      "execution_count": 2,
      "outputs": [
        {
          "output_type": "stream",
          "name": "stdout",
          "text": [
            "13\n"
          ]
        }
      ]
    },
    {
      "cell_type": "code",
      "source": [
        "#만일 한 프로그램에서 2대의 계산기가 필요한 상황이면\n",
        "\n",
        "result1 = 0\n",
        "result2 = 0\n",
        "\n",
        "def add1(num):\n",
        "    global result1\n",
        "    result1 += num\n",
        "    return result1\n",
        "\n",
        "def add2(num):\n",
        "    global result2\n",
        "    result2 += num\n",
        "    return result2\n",
        "\n"
      ],
      "metadata": {
        "id": "ImPNo2xHlLda"
      },
      "execution_count": null,
      "outputs": []
    },
    {
      "cell_type": "code",
      "source": [
        "#클래스를 이용한 계산기\n",
        "\n",
        "class Calculator:           #객체생성용(생성자용메서드, 일반메서드)\n",
        "\n",
        "    def __init__(self):     #생성자(객체생성시 0순위로 처리됨), __init__ : 초기값\n",
        "        self.result = 0     #객체 자신에 result변수를 만들고 0값을 넣음\n",
        "\n",
        "    def add(self, num):     #객체용 메서드\n",
        "        self.result += num  #생성자에 있는 변수에 num을 누적합 저장\n",
        "        return self.result  #결과를 리턴\n",
        "\n"
      ],
      "metadata": {
        "id": "P0oMzL7pmDUa"
      },
      "execution_count": 3,
      "outputs": []
    },
    {
      "cell_type": "code",
      "source": [
        "#객체를 생성해서 변수에 연결(java : Calculator cal1 = new Calculator())\n",
        "\n",
        "cal1 = Calculator() #객체1\n",
        "cal2 = Calculator() #객체2\n",
        "\n",
        "print(cal1.add(3)) #1번계산기\n",
        "print(cal2.add(9)) #2번계산기"
      ],
      "metadata": {
        "colab": {
          "base_uri": "https://localhost:8080/"
        },
        "id": "oGtS8vfBnTU7",
        "outputId": "1d1622db-acfa-447b-fc06-d3b4200a387e"
      },
      "execution_count": 4,
      "outputs": [
        {
          "output_type": "stream",
          "name": "stdout",
          "text": [
            "3\n",
            "9\n"
          ]
        }
      ]
    },
    {
      "cell_type": "code",
      "source": [
        "print(cal1.add(5))  #1번계산기"
      ],
      "metadata": {
        "colab": {
          "base_uri": "https://localhost:8080/"
        },
        "id": "0M8BOThrn_yq",
        "outputId": "4a753c0d-c9f0-45f3-fa2c-00d2fd7bbbc2"
      },
      "execution_count": 5,
      "outputs": [
        {
          "output_type": "stream",
          "name": "stdout",
          "text": [
            "8\n"
          ]
        }
      ]
    },
    {
      "cell_type": "code",
      "source": [
        "print(cal2.add(8)) #2번계산기"
      ],
      "metadata": {
        "colab": {
          "base_uri": "https://localhost:8080/"
        },
        "id": "0w-ROv-LoGvy",
        "outputId": "6e212ce9-4f34-4d57-aaef-5363a5c6ed43"
      },
      "execution_count": 6,
      "outputs": [
        {
          "output_type": "stream",
          "name": "stdout",
          "text": [
            "17\n"
          ]
        }
      ]
    },
    {
      "cell_type": "code",
      "source": [
        "#클래스를 활용한 사칙연산 계산기 만들기\n",
        "\n",
        "class FourCal:\n",
        "    # pass        #아무기능없이 동작\n",
        "    #필드 : 객체마다 가지고 있어야 할 데이터들(dto, vo)\n",
        "    first = 0\n",
        "    second = 0\n",
        "    #생성자 : 객체를 생성할때 필요한 무언가 (생성자의 이름은 __init__)\n",
        "    def __init__(self, first, second):\n",
        "        self.first = first\n",
        "        self.second = second\n",
        "\n",
        "    def setdata(self, first, second):   #메서드 선언(self 필수)\n",
        "        self.first = first              #this.first = first\n",
        "        self.second = second            #this.second = second\n",
        "\n",
        "    def add(self):\n",
        "        result = self.first + self.second\n",
        "        return result\n",
        "\n",
        "    def mul(self):\n",
        "        result = self.first * self.second\n",
        "        return result\n",
        "\n",
        "    def sub(self):\n",
        "        result = self.first - self.second\n",
        "        return result\n",
        "\n",
        "    def div(self):\n",
        "        result = self.first / self.second\n",
        "        return result"
      ],
      "metadata": {
        "id": "HU8By8rFo0Wh"
      },
      "execution_count": 28,
      "outputs": []
    },
    {
      "cell_type": "code",
      "source": [
        "a = FourCal()   #a 변수에 객체가 연결됨\n",
        "a.setdata(4,2)  #a변수를 self로 처리함\n",
        "#self.setdata(first, second)"
      ],
      "metadata": {
        "id": "-uVKA7sTqG5S"
      },
      "execution_count": 18,
      "outputs": []
    },
    {
      "cell_type": "code",
      "source": [
        "b = FourCal()\n",
        "FourCal.setdata(b, 4, 2)"
      ],
      "metadata": {
        "id": "RSXXW_7BuZpz"
      },
      "execution_count": 19,
      "outputs": []
    },
    {
      "cell_type": "code",
      "source": [
        "print(a.first)"
      ],
      "metadata": {
        "colab": {
          "base_uri": "https://localhost:8080/"
        },
        "id": "6GsE4KCpu4m6",
        "outputId": "897a856c-985c-48ae-8c5c-652e2701a910"
      },
      "execution_count": 20,
      "outputs": [
        {
          "output_type": "stream",
          "name": "stdout",
          "text": [
            "4\n"
          ]
        }
      ]
    },
    {
      "cell_type": "code",
      "source": [
        "print(b.second)"
      ],
      "metadata": {
        "colab": {
          "base_uri": "https://localhost:8080/"
        },
        "id": "92-LEVoJu-uS",
        "outputId": "eb0536ae-be80-474c-c0a8-bfcdd62da3f2"
      },
      "execution_count": 21,
      "outputs": [
        {
          "output_type": "stream",
          "name": "stdout",
          "text": [
            "2\n"
          ]
        }
      ]
    },
    {
      "cell_type": "code",
      "source": [
        "c = FourCal()\n",
        "c.setdata(5,5)\n",
        "c.mul()"
      ],
      "metadata": {
        "colab": {
          "base_uri": "https://localhost:8080/"
        },
        "id": "9PJk4GPGvDIq",
        "outputId": "6ba42f8f-6d66-40af-9f76-4adcac46d52d"
      },
      "execution_count": 26,
      "outputs": [
        {
          "output_type": "execute_result",
          "data": {
            "text/plain": [
              "25"
            ]
          },
          "metadata": {},
          "execution_count": 26
        }
      ]
    },
    {
      "cell_type": "code",
      "source": [
        "d = FourCal(7,3)\n",
        "d.add()"
      ],
      "metadata": {
        "colab": {
          "base_uri": "https://localhost:8080/"
        },
        "id": "AGKej4qowp8M",
        "outputId": "2d729c9f-1430-4b7a-fa6d-8d2ea38bf789"
      },
      "execution_count": 30,
      "outputs": [
        {
          "output_type": "execute_result",
          "data": {
            "text/plain": [
              "10"
            ]
          },
          "metadata": {},
          "execution_count": 30
        }
      ]
    },
    {
      "cell_type": "code",
      "source": [
        "d.setdata(6,3)\n",
        "d.add()"
      ],
      "metadata": {
        "colab": {
          "base_uri": "https://localhost:8080/"
        },
        "id": "JVBx1jVVyLPs",
        "outputId": "c62ee394-bb49-4b3f-e8e7-ca72038da334"
      },
      "execution_count": 31,
      "outputs": [
        {
          "output_type": "execute_result",
          "data": {
            "text/plain": [
              "9"
            ]
          },
          "metadata": {},
          "execution_count": 31
        }
      ]
    },
    {
      "cell_type": "code",
      "source": [
        "#상속 기능 : 부모가 만든 객체를 보완, 추가하는 기능\n",
        "\n",
        "class MoreFourCal(FourCal): #객체생성시(부모객체)\n",
        "\n",
        "    def pow(self):\n",
        "        result = self.first ** self.second\n",
        "        return result\n",
        "\n",
        "    #오버라이딩 : 부모가만든 메서드를 변경하여\n",
        "    def div(self):\n",
        "        if self.second == 0:\n",
        "            return 0\n",
        "        else:\n",
        "            return self.first / self.second\n"
      ],
      "metadata": {
        "id": "ykMpfTvmyVfc"
      },
      "execution_count": 38,
      "outputs": []
    },
    {
      "cell_type": "code",
      "source": [
        "e = MoreFourCal(4,6)\n",
        "e.pow()"
      ],
      "metadata": {
        "colab": {
          "base_uri": "https://localhost:8080/"
        },
        "id": "VBT3sTlDzhCb",
        "outputId": "f9917d2f-4be9-43fa-8b07-4dd9fce9dcb8"
      },
      "execution_count": 35,
      "outputs": [
        {
          "output_type": "execute_result",
          "data": {
            "text/plain": [
              "4096"
            ]
          },
          "metadata": {},
          "execution_count": 35
        }
      ]
    },
    {
      "cell_type": "code",
      "source": [
        "f = MoreFourCal(4,0)\n",
        "f.div()"
      ],
      "metadata": {
        "colab": {
          "base_uri": "https://localhost:8080/"
        },
        "id": "zIAgeKZz03Wm",
        "outputId": "0b2d5bd2-a624-4921-ba79-5b8663536941"
      },
      "execution_count": 39,
      "outputs": [
        {
          "output_type": "execute_result",
          "data": {
            "text/plain": [
              "0"
            ]
          },
          "metadata": {},
          "execution_count": 39
        }
      ]
    }
  ]
}